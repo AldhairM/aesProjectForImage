{
 "cells": [
  {
   "cell_type": "code",
   "execution_count": 1,
   "metadata": {},
   "outputs": [],
   "source": [
    "from base64 import b64decode, b64encode\n",
    "from Crypto import Random\n",
    "import imageio\n",
    "import cv2\n",
    "import shutil\n",
    "import time\n",
    "import sys, os\n",
    "\n",
    "import aes\n",
    "import dwt\n",
    "from Huff import HuffmanCoding"
   ]
  },
  {
   "cell_type": "code",
   "execution_count": 2,
   "metadata": {},
   "outputs": [],
   "source": [
    "names = [\"a\", \"h\", \"v\", \"d\"]"
   ]
  },
  {
   "cell_type": "code",
   "execution_count": 3,
   "metadata": {},
   "outputs": [],
   "source": [
    "def encryptMain(image, key, mode):\n",
    "    nonce=[\"\",\"\",\"\",\"\"]\n",
    "    data = cv2.imread(image, cv2.IMREAD_GRAYSCALE)\n",
    "    coeffs_from_arr = dwt.ProcesoDWT(data)\n",
    "    dwt.Save_txt(coeffs_from_arr)\n",
    "    h = HuffmanCoding()\n",
    "    for cr in range(len(names)):\n",
    "        path = \"{}.txt\".format(names[cr])\n",
    "        h.compress(path)\n",
    "        n=names[cr]\n",
    "        with open(f\"{n}_c.bin\",\"rb\") as file, open(f\"{n}_cl.bin\",\"wb\") as out:\n",
    "            plaintext = b64encode(file.read())\n",
    "            appended = aes.saturar(plaintext)\n",
    "            ciphertext, nonce[cr]= aes.encrypt(appended,key,mode)\n",
    "            #ciphertext = aes.encrypt(appended,key,mode)\n",
    "            out.write(ciphertext)\n",
    "        os.remove(f\"{n}.txt\")\n",
    "        #os.remove(f\"{n}_c.bin\")\n",
    "    return nonce"
   ]
  },
  {
   "cell_type": "code",
   "execution_count": 11,
   "metadata": {},
   "outputs": [],
   "source": [
    "def decryptMain(imageName, key, mode, nonce=None):\n",
    "    h = HuffmanCoding()\n",
    "    for cr in range(len(names)):\n",
    "        n =names[cr]\n",
    "        with open(\"{}_cl.bin\".format(n),\"rb\") as file, open(\"{}_c.bin\".format(n),\"wb\") as out:\n",
    "            if mode == \"ECB\":\n",
    "                decrypted = aes.decrypt(file.read(),key,mode)\n",
    "            else:\n",
    "                decrypted = aes.decrypt(file.read(),key,mode, nonce[cr])\n",
    "            satured= aes.remove_space_padding(decrypted)\n",
    "            plaintextout = b64decode(satured)\n",
    "            out.write(plaintextout)\n",
    "        path = \"{}_c.bin\".format(names[cr])\n",
    "        h.decompress(path)\n",
    "    name_recon = dwt.ReconstructDWT()\n",
    "    imageio.imwrite('{}_r.png'.format(imageName), name_recon)\n",
    "    for trash in names:\n",
    "            os.remove(f\"{trash}.txt\")\n",
    "            os.remove(f\"{trash}d.txt\")\n",
    "            #os.remove(f\"{trash}_c.bin\")"
   ]
  },
  {
   "cell_type": "code",
   "execution_count": 42,
   "metadata": {},
   "outputs": [],
   "source": [
    "dir=\"Analisis/Images/\"\n",
    "name =\"lena.png\"\n",
    "key = Random.new().read(16)"
   ]
  },
  {
   "cell_type": "code",
   "execution_count": 43,
   "metadata": {},
   "outputs": [
    {
     "name": "stdout",
     "output_type": "stream",
     "text": [
      "47.324 %\n",
      "8.421 s\n",
      "48.136 %\n",
      "8.165 s\n",
      "48.114 %\n",
      "8.937 s\n",
      "48.066 %\n",
      "9.288 s\n"
     ]
    }
   ],
   "source": [
    "nonce=encryptMain(dir+name,key,\"OFB\")"
   ]
  },
  {
   "cell_type": "code",
   "execution_count": 44,
   "metadata": {},
   "outputs": [
    {
     "data": {
      "text/plain": [
       "b'\\xdd\\xe6N\\x04\\xa2 f\\xc9.\\xdc\\xe2\\n\\x9d\\x19\\xfe\\x19'"
      ]
     },
     "execution_count": 44,
     "metadata": {},
     "output_type": "execute_result"
    }
   ],
   "source": [
    "key"
   ]
  },
  {
   "cell_type": "code",
   "execution_count": 28,
   "metadata": {},
   "outputs": [
    {
     "data": {
      "text/plain": [
       "b'\\xado\\xa8h\\n\\xfd\\x1a8J\\xa1\\xc3DH.\\xab\\xa9'"
      ]
     },
     "execution_count": 28,
     "metadata": {},
     "output_type": "execute_result"
    }
   ],
   "source": [
    "key=b'\\xado\\xa8h\\n\\xfd\\x1a8J\\xa1\\xc3DH.\\xab\\xa9'"
   ]
  },
  {
   "cell_type": "code",
   "execution_count": 12,
   "metadata": {},
   "outputs": [
    {
     "name": "stdout",
     "output_type": "stream",
     "text": [
      "11.337 s\n",
      "12.315 s\n",
      "11.871 s\n",
      "11.739 s\n"
     ]
    },
    {
     "name": "stderr",
     "output_type": "stream",
     "text": [
      "WARNING:root:Lossy conversion from float64 to uint8. Range [12.000000000000004, 246.00000000000006]. Convert image to uint8 prior to saving to suppress this warning.\n"
     ]
    }
   ],
   "source": [
    "decryptMain(\"barbara\",key,\"ECB\")"
   ]
  },
  {
   "cell_type": "code",
   "execution_count": 5,
   "metadata": {},
   "outputs": [
    {
     "name": "stdout",
     "output_type": "stream",
     "text": [
      "I started barbara.png\n",
      "47.446 %\n",
      "8.224 s\n",
      "48.161 %\n",
      "7.673 s\n",
      "48.165 %\n",
      "8.364 s\n",
      "48.157 %\n",
      "7.187 s\n",
      "11.386 s\n",
      "12.184 s\n",
      "11.915 s\n",
      "12.229 s\n"
     ]
    },
    {
     "name": "stderr",
     "output_type": "stream",
     "text": [
      "WARNING:root:Lossy conversion from float64 to uint8. Range [12.000000000000004, 246.00000000000006]. Convert image to uint8 prior to saving to suppress this warning.\n"
     ]
    },
    {
     "name": "stdout",
     "output_type": "stream",
     "text": [
      "I started color.png\n",
      "29.397 %\n",
      "13.528 s\n",
      "44.416 %\n",
      "26.018 s\n",
      "45.655 %\n",
      "27.445 s\n",
      "45.654 %\n",
      "25.354 s\n",
      "19.792 s\n",
      "34.561 s\n",
      "37.72 s\n",
      "36.411 s\n"
     ]
    },
    {
     "name": "stderr",
     "output_type": "stream",
     "text": [
      "WARNING:root:Lossy conversion from float64 to uint8. Range [96.00000000000004, 216.00000000000009]. Convert image to uint8 prior to saving to suppress this warning.\n"
     ]
    },
    {
     "name": "stdout",
     "output_type": "stream",
     "text": [
      "I started eye.png\n",
      "47.38 %\n",
      "901.013 s\n",
      "48.078 %\n",
      "923.869 s\n",
      "48.071 %\n",
      "916.535 s\n",
      "48.002 %\n",
      "914.619 s\n",
      "977.456 s\n",
      "1040.271 s\n",
      "1034.876 s\n",
      "1035.319 s\n"
     ]
    },
    {
     "name": "stderr",
     "output_type": "stream",
     "text": [
      "WARNING:root:Lossy conversion from float64 to uint8. Range [-8.659739592076221e-15, 255.00000000000023]. Convert image to uint8 prior to saving to suppress this warning.\n"
     ]
    },
    {
     "name": "stdout",
     "output_type": "stream",
     "text": [
      "I started lena.png\n",
      "47.324 %\n",
      "8.584 s\n",
      "48.136 %\n",
      "8.0 s\n",
      "48.114 %\n",
      "7.101 s\n",
      "48.066 %\n",
      "8.357 s\n",
      "11.026 s\n",
      "13.884 s\n",
      "13.449 s\n",
      "14.535 s\n"
     ]
    },
    {
     "name": "stderr",
     "output_type": "stream",
     "text": [
      "WARNING:root:Lossy conversion from float64 to uint8. Range [38.99999999999999, 245.00000000000009]. Convert image to uint8 prior to saving to suppress this warning.\n"
     ]
    },
    {
     "name": "stdout",
     "output_type": "stream",
     "text": [
      "I started lenaV2.png\n",
      "47.066 %\n",
      "52.214 s\n",
      "47.663 %\n",
      "49.834 s\n",
      "47.757 %\n",
      "48.995 s\n",
      "47.468 %\n",
      "48.601 s\n",
      "59.601 s\n",
      "64.686 s\n",
      "65.894 s\n",
      "65.064 s\n"
     ]
    },
    {
     "name": "stderr",
     "output_type": "stream",
     "text": [
      "WARNING:root:Lossy conversion from float64 to uint8. Range [1.9999999999999967, 255.0000000000001]. Convert image to uint8 prior to saving to suppress this warning.\n"
     ]
    },
    {
     "name": "stdout",
     "output_type": "stream",
     "text": [
      "I started logo.png\n",
      "35.652 %\n",
      "0.476 s\n",
      "46.502 %\n",
      "0.629 s\n",
      "47.221 %\n",
      "0.488 s\n",
      "47.06 %\n",
      "0.487 s\n",
      "1.413 s\n",
      "1.643 s\n",
      "1.749 s\n",
      "1.537 s\n"
     ]
    },
    {
     "name": "stderr",
     "output_type": "stream",
     "text": [
      "WARNING:root:Lossy conversion from float64 to uint8. Range [-4.263256414560601e-14, 255.00000000000014]. Convert image to uint8 prior to saving to suppress this warning.\n"
     ]
    },
    {
     "name": "stdout",
     "output_type": "stream",
     "text": [
      "I started Mandrill.png\n",
      "47.408 %\n",
      "9.042 s\n",
      "48.114 %\n",
      "9.576 s\n",
      "48.133 %\n",
      "7.141 s\n",
      "48.147 %\n",
      "9.532 s\n",
      "14.78 s\n",
      "15.309 s\n",
      "12.946 s\n",
      "12.685 s\n"
     ]
    },
    {
     "name": "stderr",
     "output_type": "stream",
     "text": [
      "WARNING:root:Lossy conversion from float64 to uint8. Range [-3.197442310920451e-14, 240.00000000000009]. Convert image to uint8 prior to saving to suppress this warning.\n"
     ]
    },
    {
     "name": "stdout",
     "output_type": "stream",
     "text": [
      "I started peppers.png\n",
      "47.439 %\n",
      "9.032 s\n",
      "48.183 %\n",
      "8.017 s\n",
      "48.189 %\n",
      "7.123 s\n",
      "48.207 %\n",
      "7.723 s\n",
      "11.113 s\n",
      "12.426 s\n",
      "13.417 s\n",
      "13.181 s\n"
     ]
    },
    {
     "name": "stderr",
     "output_type": "stream",
     "text": [
      "WARNING:root:Lossy conversion from float64 to uint8. Range [-4.440892098500626e-16, 227.0000000000001]. Convert image to uint8 prior to saving to suppress this warning.\n"
     ]
    },
    {
     "name": "stdout",
     "output_type": "stream",
     "text": [
      "I started pinguin.png\n",
      "33.817 %\n",
      "4.391 s\n",
      "44.68 %\n",
      "8.315 s\n",
      "45.958 %\n",
      "6.649 s\n",
      "44.806 %\n",
      "5.419 s\n",
      "6.697 s\n",
      "9.659 s\n",
      "9.236 s\n",
      "9.625 s\n"
     ]
    },
    {
     "name": "stderr",
     "output_type": "stream",
     "text": [
      "WARNING:root:Lossy conversion from float64 to uint8. Range [-3.552713678800501e-14, 255.0000000000002]. Convert image to uint8 prior to saving to suppress this warning.\n"
     ]
    },
    {
     "name": "stdout",
     "output_type": "stream",
     "text": [
      "I started scale.png\n",
      "47.07 %\n",
      "4.576 s\n",
      "47.232 %\n",
      "4.148 s\n",
      "47.377 %\n",
      "3.801 s\n",
      "47.152 %\n",
      "3.534 s\n",
      "6.523 s\n",
      "7.807 s\n",
      "7.188 s\n",
      "8.081 s\n"
     ]
    },
    {
     "name": "stderr",
     "output_type": "stream",
     "text": [
      "WARNING:root:Lossy conversion from float64 to uint8. Range [-1.0824674490095276e-15, 255.00000000000017]. Convert image to uint8 prior to saving to suppress this warning.\n"
     ]
    }
   ],
   "source": [
    "dir=\"Images/\"\n",
    "for files in os.listdir(dir):\n",
    "    file = dir+files\n",
    "    if file[-4:] != \".png\":\n",
    "        continue\n",
    "    key = Random.new().read(16)\n",
    "    start=time.time()\n",
    "    print(\"I started \"+files)\n",
    "    nonce = encryptMain(file,key, mode=\"OFB\")\n",
    "    #encryptMain(file,key, mode=\"ECB\")\n",
    "    midle=time.time()\n",
    "    try:\n",
    "        decryptMain(files[:-4],key,mode=\"OFB\", nonce=nonce)\n",
    "        #decryptMain(files[:-4],key,mode=\"ECB\")\n",
    "        end= time.time()\n",
    "    except:\n",
    "        enc = midle - start\n",
    "        print(file+\" has failed\")\n",
    "        enc = midle - start\n",
    "        f=open(f\"{files[:-4]}.txt\",\"w\")\n",
    "        f.write(\"Title: \"+file+\"\\n\")\n",
    "        f.write(f\"key: {key}\\n\")\n",
    "        f.write(f\"iv: {nonce}\\n\")\n",
    "        f.write(f\"Time encrypted: {enc}\\n\")\n",
    "        f.close()\n",
    "        continue\n",
    "        \n",
    "    enc = midle - start\n",
    "    des = end - midle\n",
    "    \n",
    "    f=open(f\"{files[:-4]}.txt\",\"w\")\n",
    "    f.write(\"Title: \"+file+\"\\n\")\n",
    "    f.write(f\"key: {key}\\n\")\n",
    "    f.write(f\"iv: {nonce}\\n\")\n",
    "    f.write(f\"Time encrypted: {enc}\\n\")\n",
    "    f.write(f\"Time encrypted: {des}\\n\")\n",
    "    total=end - start\n",
    "    f.write(f\"Total: {total}\")\n",
    "    f.close()\n",
    "    if not os.path.exists(file[:-4]):\n",
    "        os.makedirs(file[:-4])\n",
    "    for clf in names:\n",
    "        shutil.move(f\"{clf}_cl.bin\",file[:-4])\n",
    "    shutil.move(f\"{files[:-4]}_r.png\",file[:-4])\n",
    "    shutil.move(file,file[:-4])\n",
    "    shutil.move(f\"{files[:-4]}.txt\",file[:-4])"
   ]
  },
  {
   "cell_type": "code",
   "execution_count": 5,
   "metadata": {},
   "outputs": [],
   "source": [
    "import converter\n",
    "import test"
   ]
  },
  {
   "cell_type": "code",
   "execution_count": 6,
   "metadata": {},
   "outputs": [],
   "source": [
    "def encryptImage(image, key, mode):\n",
    "    nonce=[\"\",\"\",\"\",\"\"]\n",
    "    data = cv2.imread(image, cv2.IMREAD_GRAYSCALE)\n",
    "    shape=data.shape\n",
    "    coeffs_from_arr = dwt.ProcesoDWT(data)\n",
    "    dwt.Save_txt(coeffs_from_arr)\n",
    "    h = HuffmanCoding()\n",
    "    for cr in range(len(names)):\n",
    "        path = \"{}.txt\".format(names[cr])\n",
    "        h.compress(path)\n",
    "        n=names[cr]\n",
    "        with open(f\"{n}_c.bin\",\"rb\") as file, open(f\"{n}_cl.bin\",\"wb\") as out:\n",
    "            plaintext = b64encode(file.read())\n",
    "            appended = aes.saturar(plaintext)\n",
    "            #ciphertext, nonce[cr]= aes.encrypt(appended,key,mode)\n",
    "            ciphertext = aes.encrypt(appended,key,mode)\n",
    "            out.write(ciphertext)\n",
    "        with open(f\"{n}_c.bin\",\"wb\") as file:\n",
    "            file.write(appended)\n",
    "        converter.convertImage(f\"{n}_c.bin\",f\"{n}_init\",shape[0])\n",
    "        converter.convertImage(f\"{n}_cl.bin\",f\"{n}_mid\",shape[0])\n",
    "        os.remove(f\"{n}.txt\")\n",
    "        os.remove(f\"{n}_c.bin\")\n",
    "    if mode == \"ECB\":\n",
    "        return shape[0]\n",
    "    else:\n",
    "        return nonce, shape[0]"
   ]
  },
  {
   "cell_type": "code",
   "execution_count": 7,
   "metadata": {},
   "outputs": [],
   "source": [
    "def decryptedImage(name,shape, key,mode,nonce=None):\n",
    "    names = [\"a\", \"h\", \"v\", \"d\"]\n",
    "    for cr in range(len(names)):\n",
    "        n =names[cr]\n",
    "        with open(\"{}_cl.bin\".format(n),\"rb\") as file, open(\"{}_c.bin\".format(n),\"wb\") as out:\n",
    "            if mode == \"ECB\":\n",
    "                decrypted = aes.decrypt(file.read(),key,mode)\n",
    "            else:\n",
    "                decrypted = aes.decrypt(file.read(),key,mode, nonce[cr])\n",
    "                out.write(decrypted)\n",
    "        converter.convertImage(f\"{n}_c.bin\",f\"{n}_out\",shape)"
   ]
  },
  {
   "cell_type": "code",
   "execution_count": 10,
   "metadata": {},
   "outputs": [
    {
     "name": "stdout",
     "output_type": "stream",
     "text": [
      "I started barbara.png\n",
      "47.446 %\n",
      "8.244 s\n"
     ]
    },
    {
     "name": "stderr",
     "output_type": "stream",
     "text": [
      "WARNING:root:Lossy conversion from int32 to uint8. Range [43, 122]. Convert image to uint8 prior to saving to suppress this warning.\n",
      "WARNING:root:Lossy conversion from int32 to uint8. Range [0, 255]. Convert image to uint8 prior to saving to suppress this warning.\n"
     ]
    },
    {
     "name": "stdout",
     "output_type": "stream",
     "text": [
      "48.161 %\n",
      "7.586 s\n"
     ]
    },
    {
     "name": "stderr",
     "output_type": "stream",
     "text": [
      "WARNING:root:Lossy conversion from int32 to uint8. Range [43, 122]. Convert image to uint8 prior to saving to suppress this warning.\n",
      "WARNING:root:Lossy conversion from int32 to uint8. Range [0, 255]. Convert image to uint8 prior to saving to suppress this warning.\n"
     ]
    },
    {
     "name": "stdout",
     "output_type": "stream",
     "text": [
      "48.165 %\n",
      "8.162 s\n"
     ]
    },
    {
     "name": "stderr",
     "output_type": "stream",
     "text": [
      "WARNING:root:Lossy conversion from int32 to uint8. Range [43, 122]. Convert image to uint8 prior to saving to suppress this warning.\n",
      "WARNING:root:Lossy conversion from int32 to uint8. Range [0, 255]. Convert image to uint8 prior to saving to suppress this warning.\n"
     ]
    },
    {
     "name": "stdout",
     "output_type": "stream",
     "text": [
      "48.157 %\n",
      "8.059 s\n"
     ]
    },
    {
     "name": "stderr",
     "output_type": "stream",
     "text": [
      "WARNING:root:Lossy conversion from int32 to uint8. Range [43, 122]. Convert image to uint8 prior to saving to suppress this warning.\n",
      "WARNING:root:Lossy conversion from int32 to uint8. Range [0, 255]. Convert image to uint8 prior to saving to suppress this warning.\n"
     ]
    },
    {
     "ename": "ValueError",
     "evalue": "Image must be 2D (grayscale, RGB, or RGBA).",
     "output_type": "error",
     "traceback": [
      "\u001b[1;31m---------------------------------------------------------------------------\u001b[0m",
      "\u001b[1;31mValueError\u001b[0m                                Traceback (most recent call last)",
      "\u001b[1;32m<ipython-input-10-9320fa15091e>\u001b[0m in \u001b[0;36m<module>\u001b[1;34m\u001b[0m\n\u001b[0;32m      9\u001b[0m \u001b[1;33m\u001b[0m\u001b[0m\n\u001b[0;32m     10\u001b[0m \u001b[1;31m#decryptedImage(files[:-4],shape,key,mode, nonce)\u001b[0m\u001b[1;33m\u001b[0m\u001b[1;33m\u001b[0m\u001b[1;33m\u001b[0m\u001b[0m\n\u001b[1;32m---> 11\u001b[1;33m \u001b[0mdecryptedImage\u001b[0m\u001b[1;33m(\u001b[0m\u001b[0mfiles\u001b[0m\u001b[1;33m[\u001b[0m\u001b[1;33m:\u001b[0m\u001b[1;33m-\u001b[0m\u001b[1;36m4\u001b[0m\u001b[1;33m]\u001b[0m\u001b[1;33m,\u001b[0m\u001b[0mshape\u001b[0m\u001b[1;33m,\u001b[0m\u001b[0mkey\u001b[0m\u001b[1;33m,\u001b[0m\u001b[0mmode\u001b[0m\u001b[1;33m=\u001b[0m\u001b[1;34m\"ECB\"\u001b[0m\u001b[1;33m)\u001b[0m\u001b[1;33m\u001b[0m\u001b[1;33m\u001b[0m\u001b[0m\n\u001b[0m\u001b[0;32m     12\u001b[0m \u001b[0mend\u001b[0m\u001b[1;33m=\u001b[0m \u001b[0mtime\u001b[0m\u001b[1;33m.\u001b[0m\u001b[0mtime\u001b[0m\u001b[1;33m(\u001b[0m\u001b[1;33m)\u001b[0m\u001b[1;33m\u001b[0m\u001b[1;33m\u001b[0m\u001b[0m\n\u001b[0;32m     13\u001b[0m \u001b[1;33m\u001b[0m\u001b[0m\n",
      "\u001b[1;32m<ipython-input-7-f69f7a37a893>\u001b[0m in \u001b[0;36mdecryptedImage\u001b[1;34m(name, shape, key, mode, nonce)\u001b[0m\n\u001b[0;32m      9\u001b[0m                 \u001b[0mdecrypted\u001b[0m \u001b[1;33m=\u001b[0m \u001b[0maes\u001b[0m\u001b[1;33m.\u001b[0m\u001b[0mdecrypt\u001b[0m\u001b[1;33m(\u001b[0m\u001b[0mfile\u001b[0m\u001b[1;33m.\u001b[0m\u001b[0mread\u001b[0m\u001b[1;33m(\u001b[0m\u001b[1;33m)\u001b[0m\u001b[1;33m,\u001b[0m\u001b[0mkey\u001b[0m\u001b[1;33m,\u001b[0m\u001b[0mmode\u001b[0m\u001b[1;33m,\u001b[0m \u001b[0mnonce\u001b[0m\u001b[1;33m[\u001b[0m\u001b[0mcr\u001b[0m\u001b[1;33m]\u001b[0m\u001b[1;33m)\u001b[0m\u001b[1;33m\u001b[0m\u001b[1;33m\u001b[0m\u001b[0m\n\u001b[0;32m     10\u001b[0m                 \u001b[0mout\u001b[0m\u001b[1;33m.\u001b[0m\u001b[0mwrite\u001b[0m\u001b[1;33m(\u001b[0m\u001b[0mdecrypted\u001b[0m\u001b[1;33m)\u001b[0m\u001b[1;33m\u001b[0m\u001b[1;33m\u001b[0m\u001b[0m\n\u001b[1;32m---> 11\u001b[1;33m         \u001b[0mconverter\u001b[0m\u001b[1;33m.\u001b[0m\u001b[0mconvertImage\u001b[0m\u001b[1;33m(\u001b[0m\u001b[1;34mf\"{n}_c.bin\"\u001b[0m\u001b[1;33m,\u001b[0m\u001b[1;34mf\"{n}_out\"\u001b[0m\u001b[1;33m,\u001b[0m\u001b[0mshape\u001b[0m\u001b[1;33m)\u001b[0m\u001b[1;33m\u001b[0m\u001b[1;33m\u001b[0m\u001b[0m\n\u001b[0m",
      "\u001b[1;32m~\\Desktop\\ProyectoT\\Creado\\scripts\\Proyecto\\converter.py\u001b[0m in \u001b[0;36mconvertImage\u001b[1;34m(name, image, shape)\u001b[0m\n\u001b[0;32m     33\u001b[0m             \u001b[1;32mexcept\u001b[0m\u001b[1;33m:\u001b[0m\u001b[1;33m\u001b[0m\u001b[1;33m\u001b[0m\u001b[0m\n\u001b[0;32m     34\u001b[0m                 \u001b[1;32mpass\u001b[0m\u001b[1;33m\u001b[0m\u001b[1;33m\u001b[0m\u001b[0m\n\u001b[1;32m---> 35\u001b[1;33m         \u001b[0mimageio\u001b[0m\u001b[1;33m.\u001b[0m\u001b[0mimsave\u001b[0m\u001b[1;33m(\u001b[0m\u001b[1;34mf\"{image}.png\"\u001b[0m\u001b[1;33m,\u001b[0m\u001b[0mnp\u001b[0m\u001b[1;33m.\u001b[0m\u001b[0marray\u001b[0m\u001b[1;33m(\u001b[0m\u001b[0mmatrix\u001b[0m\u001b[1;33m)\u001b[0m\u001b[1;33m)\u001b[0m\u001b[1;33m\u001b[0m\u001b[1;33m\u001b[0m\u001b[0m\n\u001b[0m",
      "\u001b[1;32mC:\\ProgramData\\Anaconda3\\lib\\site-packages\\imageio\\core\\functions.py\u001b[0m in \u001b[0;36mimwrite\u001b[1;34m(uri, im, format, **kwargs)\u001b[0m\n\u001b[0;32m    251\u001b[0m             \u001b[1;32mpass\u001b[0m\u001b[1;33m\u001b[0m\u001b[1;33m\u001b[0m\u001b[0m\n\u001b[0;32m    252\u001b[0m         \u001b[1;32melse\u001b[0m\u001b[1;33m:\u001b[0m\u001b[1;33m\u001b[0m\u001b[1;33m\u001b[0m\u001b[0m\n\u001b[1;32m--> 253\u001b[1;33m             \u001b[1;32mraise\u001b[0m \u001b[0mValueError\u001b[0m\u001b[1;33m(\u001b[0m\u001b[1;34m\"Image must be 2D (grayscale, RGB, or RGBA).\"\u001b[0m\u001b[1;33m)\u001b[0m\u001b[1;33m\u001b[0m\u001b[1;33m\u001b[0m\u001b[0m\n\u001b[0m\u001b[0;32m    254\u001b[0m     \u001b[1;32melse\u001b[0m\u001b[1;33m:\u001b[0m\u001b[1;33m\u001b[0m\u001b[1;33m\u001b[0m\u001b[0m\n\u001b[0;32m    255\u001b[0m         \u001b[1;32mraise\u001b[0m \u001b[0mValueError\u001b[0m\u001b[1;33m(\u001b[0m\u001b[1;34m\"Image must be a numpy array.\"\u001b[0m\u001b[1;33m)\u001b[0m\u001b[1;33m\u001b[0m\u001b[1;33m\u001b[0m\u001b[0m\n",
      "\u001b[1;31mValueError\u001b[0m: Image must be 2D (grayscale, RGB, or RGBA)."
     ]
    }
   ],
   "source": [
    "dir=\"Images/\"\n",
    "files=\"barbara.png\"\n",
    "file = dir+files\n",
    "key = Random.new().read(16)\n",
    "print(\"I started \"+files)\n",
    "start=time.time()\n",
    "#nonce, shape = encryptImage(file,key, mode=\"OFB\")\n",
    "shape=encryptImage(file,key, mode=\"ECB\")\n",
    "\n",
    "#decryptedImage(files[:-4],shape,key,mode, nonce)\n",
    "decryptedImage(files[:-4],shape,key,mode=\"ECB\")\n",
    "end= time.time()\n",
    "    \n",
    "for n in names:\n",
    "    data=test.testing(n)\n",
    "print (data)"
   ]
  },
  {
   "cell_type": "code",
   "execution_count": 54,
   "metadata": {},
   "outputs": [
    {
     "name": "stdout",
     "output_type": "stream",
     "text": [
      "I started barbara.png\n"
     ]
    },
    {
     "ename": "KeyboardInterrupt",
     "evalue": "",
     "output_type": "error",
     "traceback": [
      "\u001b[1;31m---------------------------------------------------------------------------\u001b[0m",
      "\u001b[1;31mKeyboardInterrupt\u001b[0m                         Traceback (most recent call last)",
      "\u001b[1;32m<ipython-input-54-f9f780288b09>\u001b[0m in \u001b[0;36m<module>\u001b[1;34m\u001b[0m\n\u001b[0;32m      7\u001b[0m     \u001b[0mprint\u001b[0m\u001b[1;33m(\u001b[0m\u001b[1;34m\"I started \"\u001b[0m\u001b[1;33m+\u001b[0m\u001b[0mfiles\u001b[0m\u001b[1;33m)\u001b[0m\u001b[1;33m\u001b[0m\u001b[1;33m\u001b[0m\u001b[0m\n\u001b[0;32m      8\u001b[0m     \u001b[1;31m#nonce, shape = encryptImage(file,key, mode=\"OFB\")\u001b[0m\u001b[1;33m\u001b[0m\u001b[1;33m\u001b[0m\u001b[1;33m\u001b[0m\u001b[0m\n\u001b[1;32m----> 9\u001b[1;33m     \u001b[0mshape\u001b[0m\u001b[1;33m=\u001b[0m\u001b[0mencryptMain\u001b[0m\u001b[1;33m(\u001b[0m\u001b[0mfile\u001b[0m\u001b[1;33m,\u001b[0m\u001b[0mkey\u001b[0m\u001b[1;33m,\u001b[0m \u001b[0mmode\u001b[0m\u001b[1;33m=\u001b[0m\u001b[1;34m\"ECB\"\u001b[0m\u001b[1;33m)\u001b[0m\u001b[1;33m\u001b[0m\u001b[1;33m\u001b[0m\u001b[0m\n\u001b[0m\u001b[0;32m     10\u001b[0m \u001b[1;33m\u001b[0m\u001b[0m\n\u001b[0;32m     11\u001b[0m     \u001b[1;31m#decryptedImage(files[:-4],shape,key,mode=\"OFB\", nonce=nonce)\u001b[0m\u001b[1;33m\u001b[0m\u001b[1;33m\u001b[0m\u001b[1;33m\u001b[0m\u001b[0m\n",
      "\u001b[1;32m<ipython-input-3-52624f216231>\u001b[0m in \u001b[0;36mencryptMain\u001b[1;34m(image, key, mode)\u001b[0m\n\u001b[0;32m      7\u001b[0m     \u001b[1;32mfor\u001b[0m \u001b[0mcr\u001b[0m \u001b[1;32min\u001b[0m \u001b[0mrange\u001b[0m\u001b[1;33m(\u001b[0m\u001b[0mlen\u001b[0m\u001b[1;33m(\u001b[0m\u001b[0mnames\u001b[0m\u001b[1;33m)\u001b[0m\u001b[1;33m)\u001b[0m\u001b[1;33m:\u001b[0m\u001b[1;33m\u001b[0m\u001b[1;33m\u001b[0m\u001b[0m\n\u001b[0;32m      8\u001b[0m         \u001b[0mpath\u001b[0m \u001b[1;33m=\u001b[0m \u001b[1;34m\"{}.txt\"\u001b[0m\u001b[1;33m.\u001b[0m\u001b[0mformat\u001b[0m\u001b[1;33m(\u001b[0m\u001b[0mnames\u001b[0m\u001b[1;33m[\u001b[0m\u001b[0mcr\u001b[0m\u001b[1;33m]\u001b[0m\u001b[1;33m)\u001b[0m\u001b[1;33m\u001b[0m\u001b[1;33m\u001b[0m\u001b[0m\n\u001b[1;32m----> 9\u001b[1;33m         \u001b[0mh\u001b[0m\u001b[1;33m.\u001b[0m\u001b[0mcompress\u001b[0m\u001b[1;33m(\u001b[0m\u001b[0mpath\u001b[0m\u001b[1;33m)\u001b[0m\u001b[1;33m\u001b[0m\u001b[1;33m\u001b[0m\u001b[0m\n\u001b[0m\u001b[0;32m     10\u001b[0m         \u001b[0mn\u001b[0m\u001b[1;33m=\u001b[0m\u001b[0mnames\u001b[0m\u001b[1;33m[\u001b[0m\u001b[0mcr\u001b[0m\u001b[1;33m]\u001b[0m\u001b[1;33m\u001b[0m\u001b[1;33m\u001b[0m\u001b[0m\n\u001b[0;32m     11\u001b[0m         \u001b[1;32mwith\u001b[0m \u001b[0mopen\u001b[0m\u001b[1;33m(\u001b[0m\u001b[1;34mf\"{n}_c.bin\"\u001b[0m\u001b[1;33m,\u001b[0m\u001b[1;34m\"rb\"\u001b[0m\u001b[1;33m)\u001b[0m \u001b[1;32mas\u001b[0m \u001b[0mfile\u001b[0m\u001b[1;33m,\u001b[0m \u001b[0mopen\u001b[0m\u001b[1;33m(\u001b[0m\u001b[1;34mf\"{n}_cl.bin\"\u001b[0m\u001b[1;33m,\u001b[0m\u001b[1;34m\"wb\"\u001b[0m\u001b[1;33m)\u001b[0m \u001b[1;32mas\u001b[0m \u001b[0mout\u001b[0m\u001b[1;33m:\u001b[0m\u001b[1;33m\u001b[0m\u001b[1;33m\u001b[0m\u001b[0m\n",
      "\u001b[1;32m~\\Desktop\\ProyectoT\\Creado\\scripts\\Proyecto\\Huff.py\u001b[0m in \u001b[0;36mcompress\u001b[1;34m(self, filename)\u001b[0m\n\u001b[0;32m    114\u001b[0m         \u001b[0mself\u001b[0m\u001b[1;33m.\u001b[0m\u001b[0mmerge_nodes\u001b[0m\u001b[1;33m(\u001b[0m\u001b[1;33m)\u001b[0m\u001b[1;33m\u001b[0m\u001b[1;33m\u001b[0m\u001b[0m\n\u001b[0;32m    115\u001b[0m         \u001b[0mself\u001b[0m\u001b[1;33m.\u001b[0m\u001b[0mencode\u001b[0m\u001b[1;33m(\u001b[0m\u001b[1;33m)\u001b[0m\u001b[1;33m\u001b[0m\u001b[1;33m\u001b[0m\u001b[0m\n\u001b[1;32m--> 116\u001b[1;33m         \u001b[0mencoded_text\u001b[0m \u001b[1;33m=\u001b[0m \u001b[0mself\u001b[0m\u001b[1;33m.\u001b[0m\u001b[0mget_encoded_text\u001b[0m\u001b[1;33m(\u001b[0m\u001b[0mlipsum\u001b[0m\u001b[1;33m)\u001b[0m\u001b[1;33m\u001b[0m\u001b[1;33m\u001b[0m\u001b[0m\n\u001b[0m\u001b[0;32m    117\u001b[0m         \u001b[0mpadded_encoded_text\u001b[0m \u001b[1;33m=\u001b[0m \u001b[0mself\u001b[0m\u001b[1;33m.\u001b[0m\u001b[0mpad_encoded_text\u001b[0m\u001b[1;33m(\u001b[0m\u001b[0mencoded_text\u001b[0m\u001b[1;33m)\u001b[0m\u001b[1;33m\u001b[0m\u001b[1;33m\u001b[0m\u001b[0m\n\u001b[0;32m    118\u001b[0m         \u001b[0mbyte_array_huff\u001b[0m \u001b[1;33m=\u001b[0m \u001b[0mself\u001b[0m\u001b[1;33m.\u001b[0m\u001b[0mto_byte_array\u001b[0m\u001b[1;33m(\u001b[0m\u001b[0mpadded_encoded_text\u001b[0m\u001b[1;33m)\u001b[0m\u001b[1;33m\u001b[0m\u001b[1;33m\u001b[0m\u001b[0m\n",
      "\u001b[1;32m~\\Desktop\\ProyectoT\\Creado\\scripts\\Proyecto\\Huff.py\u001b[0m in \u001b[0;36mget_encoded_text\u001b[1;34m(self, text)\u001b[0m\n\u001b[0;32m     71\u001b[0m         \u001b[0mencoded_text\u001b[0m \u001b[1;33m=\u001b[0m \u001b[1;34m\"\"\u001b[0m\u001b[1;33m\u001b[0m\u001b[1;33m\u001b[0m\u001b[0m\n\u001b[0;32m     72\u001b[0m         \u001b[1;32mfor\u001b[0m \u001b[0mchar\u001b[0m \u001b[1;32min\u001b[0m \u001b[0mtext\u001b[0m\u001b[1;33m:\u001b[0m\u001b[1;33m\u001b[0m\u001b[1;33m\u001b[0m\u001b[0m\n\u001b[1;32m---> 73\u001b[1;33m             \u001b[0mencoded_text\u001b[0m \u001b[1;33m+=\u001b[0m \u001b[0mself\u001b[0m\u001b[1;33m.\u001b[0m\u001b[0mcodes\u001b[0m\u001b[1;33m[\u001b[0m\u001b[0mchar\u001b[0m\u001b[1;33m]\u001b[0m\u001b[1;33m\u001b[0m\u001b[1;33m\u001b[0m\u001b[0m\n\u001b[0m\u001b[0;32m     74\u001b[0m         \u001b[1;32mreturn\u001b[0m \u001b[0mencoded_text\u001b[0m\u001b[1;33m\u001b[0m\u001b[1;33m\u001b[0m\u001b[0m\n\u001b[0;32m     75\u001b[0m \u001b[1;33m\u001b[0m\u001b[0m\n",
      "\u001b[1;31mKeyboardInterrupt\u001b[0m: "
     ]
    }
   ],
   "source": [
    "dir=\"Images/\"\n",
    "for files in os.listdir(dir):\n",
    "    file = dir+files\n",
    "    if file[-4:] != \".png\":\n",
    "        continue\n",
    "    key = Random.new().read(16)\n",
    "    print(\"I started \"+files)\n",
    "    #nonce, shape = encryptImage(file,key, mode=\"OFB\")\n",
    "    shape=encryptMain(file,key, mode=\"ECB\")\n",
    "\n",
    "    #decryptedImage(files[:-4],shape,key,mode=\"OFB\", nonce=nonce)\n",
    "    decryptMain(files[:-4],shape,key,mode=\"ECB\")\n",
    "\n",
    "    for n in names:\n",
    "        data=test.testing(n)\n",
    "        \n",
    "    f=open(f\"{files[:-4]}.txt\",\"w\")\n",
    "    f.write(\"Title: \"+file+\"\\n\")\n",
    "    total=end - start\n",
    "    f.write(\"Test: \"+data)\n",
    "    f.close()\n",
    "    if not os.path.exists(file[:-4]):\n",
    "        os.makedirs(file[:-4])\n",
    "    for clf in names:\n",
    "        shutil.move(f\"{clf}_cl.bin\",file[:-4])\n",
    "    shutil.move(f\"{files[:-4]}_init.png\",file[:-4])\n",
    "    shutil.move(f\"{files[:-4]}_mid.png\",file[:-4])\n",
    "    shutil.move(f\"{files[:-4]}_out.png\",file[:-4])\n",
    "    shutil.move(file,file[:-4])\n",
    "    shutil.move(f\"{files[:-4]}.txt\",file[:-4])"
   ]
  },
  {
   "cell_type": "code",
   "execution_count": 14,
   "metadata": {},
   "outputs": [
    {
     "data": {
      "text/plain": [
       "'barbara.png'"
      ]
     },
     "execution_count": 14,
     "metadata": {},
     "output_type": "execute_result"
    }
   ],
   "source": [
    "files"
   ]
  },
  {
   "cell_type": "code",
   "execution_count": 12,
   "metadata": {},
   "outputs": [
    {
     "name": "stdout",
     "output_type": "stream",
     "text": [
      "I started barbara.png\n",
      "47.446 %\n",
      "8.077 s\n"
     ]
    },
    {
     "name": "stderr",
     "output_type": "stream",
     "text": [
      "WARNING:root:Lossy conversion from int32 to uint8. Range [43, 122]. Convert image to uint8 prior to saving to suppress this warning.\n",
      "WARNING:root:Lossy conversion from int32 to uint8. Range [0, 255]. Convert image to uint8 prior to saving to suppress this warning.\n"
     ]
    },
    {
     "name": "stdout",
     "output_type": "stream",
     "text": [
      "48.161 %\n",
      "7.755 s\n"
     ]
    },
    {
     "name": "stderr",
     "output_type": "stream",
     "text": [
      "WARNING:root:Lossy conversion from int32 to uint8. Range [43, 122]. Convert image to uint8 prior to saving to suppress this warning.\n",
      "WARNING:root:Lossy conversion from int32 to uint8. Range [0, 255]. Convert image to uint8 prior to saving to suppress this warning.\n"
     ]
    },
    {
     "name": "stdout",
     "output_type": "stream",
     "text": [
      "48.165 %\n",
      "7.91 s\n"
     ]
    },
    {
     "name": "stderr",
     "output_type": "stream",
     "text": [
      "WARNING:root:Lossy conversion from int32 to uint8. Range [43, 122]. Convert image to uint8 prior to saving to suppress this warning.\n",
      "WARNING:root:Lossy conversion from int32 to uint8. Range [0, 255]. Convert image to uint8 prior to saving to suppress this warning.\n"
     ]
    },
    {
     "name": "stdout",
     "output_type": "stream",
     "text": [
      "48.157 %\n",
      "7.131 s\n"
     ]
    },
    {
     "name": "stderr",
     "output_type": "stream",
     "text": [
      "WARNING:root:Lossy conversion from int32 to uint8. Range [43, 122]. Convert image to uint8 prior to saving to suppress this warning.\n",
      "WARNING:root:Lossy conversion from int32 to uint8. Range [0, 255]. Convert image to uint8 prior to saving to suppress this warning.\n"
     ]
    },
    {
     "ename": "ValueError",
     "evalue": "Image must be 2D (grayscale, RGB, or RGBA).",
     "output_type": "error",
     "traceback": [
      "\u001b[1;31m---------------------------------------------------------------------------\u001b[0m",
      "\u001b[1;31mValueError\u001b[0m                                Traceback (most recent call last)",
      "\u001b[1;32m<ipython-input-12-88098d6830fa>\u001b[0m in \u001b[0;36m<module>\u001b[1;34m\u001b[0m\n\u001b[0;32m     13\u001b[0m \u001b[1;33m\u001b[0m\u001b[0m\n\u001b[0;32m     14\u001b[0m         \u001b[1;31m#decryptedImage(files[:-4],shape,key,mode, nonce)\u001b[0m\u001b[1;33m\u001b[0m\u001b[1;33m\u001b[0m\u001b[1;33m\u001b[0m\u001b[0m\n\u001b[1;32m---> 15\u001b[1;33m         \u001b[0mdecryptedImage\u001b[0m\u001b[1;33m(\u001b[0m\u001b[0mfiles\u001b[0m\u001b[1;33m[\u001b[0m\u001b[1;33m:\u001b[0m\u001b[1;33m-\u001b[0m\u001b[1;36m4\u001b[0m\u001b[1;33m]\u001b[0m\u001b[1;33m,\u001b[0m\u001b[0mshape\u001b[0m\u001b[1;33m,\u001b[0m\u001b[0mkey\u001b[0m\u001b[1;33m,\u001b[0m\u001b[0mmode\u001b[0m\u001b[1;33m=\u001b[0m\u001b[1;34m\"ECB\"\u001b[0m\u001b[1;33m)\u001b[0m\u001b[1;33m\u001b[0m\u001b[1;33m\u001b[0m\u001b[0m\n\u001b[0m\u001b[0;32m     16\u001b[0m \u001b[1;33m\u001b[0m\u001b[0m\n\u001b[0;32m     17\u001b[0m         \u001b[1;32mwith\u001b[0m \u001b[0mopen\u001b[0m\u001b[1;33m(\u001b[0m\u001b[1;34mf\"{mode}.txt\"\u001b[0m\u001b[1;33m,\u001b[0m\u001b[1;34m\"a\"\u001b[0m\u001b[1;33m)\u001b[0m \u001b[1;32mas\u001b[0m \u001b[0mf\u001b[0m\u001b[1;33m:\u001b[0m\u001b[1;33m\u001b[0m\u001b[1;33m\u001b[0m\u001b[0m\n",
      "\u001b[1;32m<ipython-input-4-f69f7a37a893>\u001b[0m in \u001b[0;36mdecryptedImage\u001b[1;34m(name, shape, key, mode, nonce)\u001b[0m\n\u001b[0;32m      9\u001b[0m                 \u001b[0mdecrypted\u001b[0m \u001b[1;33m=\u001b[0m \u001b[0maes\u001b[0m\u001b[1;33m.\u001b[0m\u001b[0mdecrypt\u001b[0m\u001b[1;33m(\u001b[0m\u001b[0mfile\u001b[0m\u001b[1;33m.\u001b[0m\u001b[0mread\u001b[0m\u001b[1;33m(\u001b[0m\u001b[1;33m)\u001b[0m\u001b[1;33m,\u001b[0m\u001b[0mkey\u001b[0m\u001b[1;33m,\u001b[0m\u001b[0mmode\u001b[0m\u001b[1;33m,\u001b[0m \u001b[0mnonce\u001b[0m\u001b[1;33m[\u001b[0m\u001b[0mcr\u001b[0m\u001b[1;33m]\u001b[0m\u001b[1;33m)\u001b[0m\u001b[1;33m\u001b[0m\u001b[1;33m\u001b[0m\u001b[0m\n\u001b[0;32m     10\u001b[0m                 \u001b[0mout\u001b[0m\u001b[1;33m.\u001b[0m\u001b[0mwrite\u001b[0m\u001b[1;33m(\u001b[0m\u001b[0mdecrypted\u001b[0m\u001b[1;33m)\u001b[0m\u001b[1;33m\u001b[0m\u001b[1;33m\u001b[0m\u001b[0m\n\u001b[1;32m---> 11\u001b[1;33m         \u001b[0mconverter\u001b[0m\u001b[1;33m.\u001b[0m\u001b[0mconvertImage\u001b[0m\u001b[1;33m(\u001b[0m\u001b[1;34mf\"{n}_c.bin\"\u001b[0m\u001b[1;33m,\u001b[0m\u001b[1;34mf\"{n}_out\"\u001b[0m\u001b[1;33m,\u001b[0m\u001b[0mshape\u001b[0m\u001b[1;33m)\u001b[0m\u001b[1;33m\u001b[0m\u001b[1;33m\u001b[0m\u001b[0m\n\u001b[0m",
      "\u001b[1;32m~\\Desktop\\ProyectoT\\Creado\\scripts\\Proyecto\\converter.py\u001b[0m in \u001b[0;36mconvertImage\u001b[1;34m(name, image, shape)\u001b[0m\n\u001b[0;32m     33\u001b[0m             \u001b[1;32mexcept\u001b[0m\u001b[1;33m:\u001b[0m\u001b[1;33m\u001b[0m\u001b[1;33m\u001b[0m\u001b[0m\n\u001b[0;32m     34\u001b[0m                 \u001b[1;32mpass\u001b[0m\u001b[1;33m\u001b[0m\u001b[1;33m\u001b[0m\u001b[0m\n\u001b[1;32m---> 35\u001b[1;33m         \u001b[0mimageio\u001b[0m\u001b[1;33m.\u001b[0m\u001b[0mimsave\u001b[0m\u001b[1;33m(\u001b[0m\u001b[1;34mf\"{image}.png\"\u001b[0m\u001b[1;33m,\u001b[0m\u001b[0mnp\u001b[0m\u001b[1;33m.\u001b[0m\u001b[0marray\u001b[0m\u001b[1;33m(\u001b[0m\u001b[0mmatrix\u001b[0m\u001b[1;33m)\u001b[0m\u001b[1;33m)\u001b[0m\u001b[1;33m\u001b[0m\u001b[1;33m\u001b[0m\u001b[0m\n\u001b[0m",
      "\u001b[1;32mC:\\ProgramData\\Anaconda3\\lib\\site-packages\\imageio\\core\\functions.py\u001b[0m in \u001b[0;36mimwrite\u001b[1;34m(uri, im, format, **kwargs)\u001b[0m\n\u001b[0;32m    251\u001b[0m             \u001b[1;32mpass\u001b[0m\u001b[1;33m\u001b[0m\u001b[1;33m\u001b[0m\u001b[0m\n\u001b[0;32m    252\u001b[0m         \u001b[1;32melse\u001b[0m\u001b[1;33m:\u001b[0m\u001b[1;33m\u001b[0m\u001b[1;33m\u001b[0m\u001b[0m\n\u001b[1;32m--> 253\u001b[1;33m             \u001b[1;32mraise\u001b[0m \u001b[0mValueError\u001b[0m\u001b[1;33m(\u001b[0m\u001b[1;34m\"Image must be 2D (grayscale, RGB, or RGBA).\"\u001b[0m\u001b[1;33m)\u001b[0m\u001b[1;33m\u001b[0m\u001b[1;33m\u001b[0m\u001b[0m\n\u001b[0m\u001b[0;32m    254\u001b[0m     \u001b[1;32melse\u001b[0m\u001b[1;33m:\u001b[0m\u001b[1;33m\u001b[0m\u001b[1;33m\u001b[0m\u001b[0m\n\u001b[0;32m    255\u001b[0m         \u001b[1;32mraise\u001b[0m \u001b[0mValueError\u001b[0m\u001b[1;33m(\u001b[0m\u001b[1;34m\"Image must be a numpy array.\"\u001b[0m\u001b[1;33m)\u001b[0m\u001b[1;33m\u001b[0m\u001b[1;33m\u001b[0m\u001b[0m\n",
      "\u001b[1;31mValueError\u001b[0m: Image must be 2D (grayscale, RGB, or RGBA)."
     ]
    }
   ],
   "source": [
    "#modes=[\"OFB\",OCB\",\"CTR\",\"GCM\"]\n",
    "modes=[\"ECB\"]\n",
    "for mode in modes:\n",
    "    dir=\"Images/\"\n",
    "    for files in os.listdir(dir):\n",
    "        file = dir+files\n",
    "        if file[-4:] != \".png\":\n",
    "            continue\n",
    "        key = Random.new().read(16)\n",
    "        print(\"I started \"+files)\n",
    "        #nonce, shape = encryptImage(file,key, mode)\n",
    "        shape=encryptImage(file,key, mode=\"ECB\")\n",
    "\n",
    "        #decryptedImage(files[:-4],shape,key,mode, nonce)\n",
    "        decryptedImage(files[:-4],shape,key,mode=\"ECB\")\n",
    "        \n",
    "        with open(f\"{mode}.txt\",\"a\") as f:\n",
    "            f.write(\"Title: \"+file+\"\\n\") \n",
    "            for n in names:\n",
    "                data=test.testing(n)\n",
    "                f.write(f\"Test: {n}\\n\")\n",
    "                f.write(f\"{str(data)}\")\n",
    "\n",
    "        if not os.path.exists(mode):\n",
    "            os.makedirs(mode)\n",
    "        addres=(f\"{files[:-4]}\")\n",
    "        if not os.path.exists(addres):\n",
    "            os.makedirs(addres)\n",
    "        for clf in names:\n",
    "            shutil.move(f\"{clf}_cl.bin\",addres)\n",
    "            shutil.move(f\"{clf}_init.png\",addres)\n",
    "            shutil.move(f\"{clf}_mid.png\",addres)\n",
    "            shutil.move(f\"{clf}_out.png\",addres)\n",
    "        shutil.move(addres,mode)\n",
    "    shutil.move(f\"{mode}.txt\",mode)"
   ]
  },
  {
   "cell_type": "code",
   "execution_count": 10,
   "metadata": {},
   "outputs": [
    {
     "data": {
      "text/plain": [
       "512"
      ]
     },
     "execution_count": 10,
     "metadata": {},
     "output_type": "execute_result"
    }
   ],
   "source": [
    "shape"
   ]
  },
  {
   "cell_type": "code",
   "execution_count": 13,
   "metadata": {},
   "outputs": [
    {
     "ename": "ValueError",
     "evalue": "Image must be 2D (grayscale, RGB, or RGBA).",
     "output_type": "error",
     "traceback": [
      "\u001b[1;31m---------------------------------------------------------------------------\u001b[0m",
      "\u001b[1;31mValueError\u001b[0m                                Traceback (most recent call last)",
      "\u001b[1;32m<ipython-input-13-be4207217702>\u001b[0m in \u001b[0;36m<module>\u001b[1;34m\u001b[0m\n\u001b[1;32m----> 1\u001b[1;33m \u001b[0mdecryptedImage\u001b[0m\u001b[1;33m(\u001b[0m\u001b[0mfiles\u001b[0m\u001b[1;33m[\u001b[0m\u001b[1;33m:\u001b[0m\u001b[1;33m-\u001b[0m\u001b[1;36m4\u001b[0m\u001b[1;33m]\u001b[0m\u001b[1;33m,\u001b[0m\u001b[0mshape\u001b[0m\u001b[1;33m,\u001b[0m\u001b[0mkey\u001b[0m\u001b[1;33m,\u001b[0m\u001b[0mmode\u001b[0m\u001b[1;33m=\u001b[0m\u001b[1;34m\"ECB\"\u001b[0m\u001b[1;33m)\u001b[0m\u001b[1;33m\u001b[0m\u001b[1;33m\u001b[0m\u001b[0m\n\u001b[0m",
      "\u001b[1;32m<ipython-input-7-f69f7a37a893>\u001b[0m in \u001b[0;36mdecryptedImage\u001b[1;34m(name, shape, key, mode, nonce)\u001b[0m\n\u001b[0;32m      9\u001b[0m                 \u001b[0mdecrypted\u001b[0m \u001b[1;33m=\u001b[0m \u001b[0maes\u001b[0m\u001b[1;33m.\u001b[0m\u001b[0mdecrypt\u001b[0m\u001b[1;33m(\u001b[0m\u001b[0mfile\u001b[0m\u001b[1;33m.\u001b[0m\u001b[0mread\u001b[0m\u001b[1;33m(\u001b[0m\u001b[1;33m)\u001b[0m\u001b[1;33m,\u001b[0m\u001b[0mkey\u001b[0m\u001b[1;33m,\u001b[0m\u001b[0mmode\u001b[0m\u001b[1;33m,\u001b[0m \u001b[0mnonce\u001b[0m\u001b[1;33m[\u001b[0m\u001b[0mcr\u001b[0m\u001b[1;33m]\u001b[0m\u001b[1;33m)\u001b[0m\u001b[1;33m\u001b[0m\u001b[1;33m\u001b[0m\u001b[0m\n\u001b[0;32m     10\u001b[0m                 \u001b[0mout\u001b[0m\u001b[1;33m.\u001b[0m\u001b[0mwrite\u001b[0m\u001b[1;33m(\u001b[0m\u001b[0mdecrypted\u001b[0m\u001b[1;33m)\u001b[0m\u001b[1;33m\u001b[0m\u001b[1;33m\u001b[0m\u001b[0m\n\u001b[1;32m---> 11\u001b[1;33m         \u001b[0mconverter\u001b[0m\u001b[1;33m.\u001b[0m\u001b[0mconvertImage\u001b[0m\u001b[1;33m(\u001b[0m\u001b[1;34mf\"{n}_c.bin\"\u001b[0m\u001b[1;33m,\u001b[0m\u001b[1;34mf\"{n}_out\"\u001b[0m\u001b[1;33m,\u001b[0m\u001b[0mshape\u001b[0m\u001b[1;33m)\u001b[0m\u001b[1;33m\u001b[0m\u001b[1;33m\u001b[0m\u001b[0m\n\u001b[0m",
      "\u001b[1;32m~\\Desktop\\ProyectoT\\Creado\\scripts\\Proyecto\\converter.py\u001b[0m in \u001b[0;36mconvertImage\u001b[1;34m(name, image, shape)\u001b[0m\n\u001b[0;32m     33\u001b[0m             \u001b[1;32mexcept\u001b[0m\u001b[1;33m:\u001b[0m\u001b[1;33m\u001b[0m\u001b[1;33m\u001b[0m\u001b[0m\n\u001b[0;32m     34\u001b[0m                 \u001b[1;32mpass\u001b[0m\u001b[1;33m\u001b[0m\u001b[1;33m\u001b[0m\u001b[0m\n\u001b[1;32m---> 35\u001b[1;33m         \u001b[0mimageio\u001b[0m\u001b[1;33m.\u001b[0m\u001b[0mimsave\u001b[0m\u001b[1;33m(\u001b[0m\u001b[1;34mf\"{image}.png\"\u001b[0m\u001b[1;33m,\u001b[0m\u001b[0mnp\u001b[0m\u001b[1;33m.\u001b[0m\u001b[0marray\u001b[0m\u001b[1;33m(\u001b[0m\u001b[0mmatrix\u001b[0m\u001b[1;33m)\u001b[0m\u001b[1;33m)\u001b[0m\u001b[1;33m\u001b[0m\u001b[1;33m\u001b[0m\u001b[0m\n\u001b[0m",
      "\u001b[1;32mC:\\ProgramData\\Anaconda3\\lib\\site-packages\\imageio\\core\\functions.py\u001b[0m in \u001b[0;36mimwrite\u001b[1;34m(uri, im, format, **kwargs)\u001b[0m\n\u001b[0;32m    251\u001b[0m             \u001b[1;32mpass\u001b[0m\u001b[1;33m\u001b[0m\u001b[1;33m\u001b[0m\u001b[0m\n\u001b[0;32m    252\u001b[0m         \u001b[1;32melse\u001b[0m\u001b[1;33m:\u001b[0m\u001b[1;33m\u001b[0m\u001b[1;33m\u001b[0m\u001b[0m\n\u001b[1;32m--> 253\u001b[1;33m             \u001b[1;32mraise\u001b[0m \u001b[0mValueError\u001b[0m\u001b[1;33m(\u001b[0m\u001b[1;34m\"Image must be 2D (grayscale, RGB, or RGBA).\"\u001b[0m\u001b[1;33m)\u001b[0m\u001b[1;33m\u001b[0m\u001b[1;33m\u001b[0m\u001b[0m\n\u001b[0m\u001b[0;32m    254\u001b[0m     \u001b[1;32melse\u001b[0m\u001b[1;33m:\u001b[0m\u001b[1;33m\u001b[0m\u001b[1;33m\u001b[0m\u001b[0m\n\u001b[0;32m    255\u001b[0m         \u001b[1;32mraise\u001b[0m \u001b[0mValueError\u001b[0m\u001b[1;33m(\u001b[0m\u001b[1;34m\"Image must be a numpy array.\"\u001b[0m\u001b[1;33m)\u001b[0m\u001b[1;33m\u001b[0m\u001b[1;33m\u001b[0m\u001b[0m\n",
      "\u001b[1;31mValueError\u001b[0m: Image must be 2D (grayscale, RGB, or RGBA)."
     ]
    }
   ],
   "source": [
    "decryptedImage(files[:-4],shape,key,mode=\"ECB\")"
   ]
  },
  {
   "cell_type": "code",
   "execution_count": null,
   "metadata": {},
   "outputs": [],
   "source": []
  },
  {
   "cell_type": "code",
   "execution_count": null,
   "metadata": {},
   "outputs": [],
   "source": []
  }
 ],
 "metadata": {
  "kernelspec": {
   "display_name": "Python 3",
   "language": "python",
   "name": "python3"
  },
  "language_info": {
   "codemirror_mode": {
    "name": "ipython",
    "version": 3
   },
   "file_extension": ".py",
   "mimetype": "text/x-python",
   "name": "python",
   "nbconvert_exporter": "python",
   "pygments_lexer": "ipython3",
   "version": "3.7.1"
  }
 },
 "nbformat": 4,
 "nbformat_minor": 2
}
