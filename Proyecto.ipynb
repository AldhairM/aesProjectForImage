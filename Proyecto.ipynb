{
 "cells": [
  {
   "cell_type": "code",
   "execution_count": 38,
   "metadata": {},
   "outputs": [],
   "source": [
    "from base64 import b64decode, b64encode\n",
    "from Crypto import Random\n",
    "import imageio\n",
    "import cv2\n",
    "import shutil\n",
    "import time\n",
    "import sys, os\n",
    "\n",
    "import aes\n",
    "import dwt\n",
    "from Huff import HuffmanCoding"
   ]
  },
  {
   "cell_type": "code",
   "execution_count": 39,
   "metadata": {},
   "outputs": [],
   "source": [
    "names = [\"a\", \"h\", \"v\", \"d\"]"
   ]
  },
  {
   "cell_type": "code",
   "execution_count": 40,
   "metadata": {},
   "outputs": [],
   "source": [
    "def encryptMain(image, key, mode):\n",
    "    nonce=[\"\",\"\",\"\",\"\"]\n",
    "    data = cv2.imread(image, cv2.IMREAD_GRAYSCALE)\n",
    "    coeffs_from_arr = dwt.ProcesoDWT(data)\n",
    "    dwt.Save_txt(coeffs_from_arr)\n",
    "    h = HuffmanCoding()\n",
    "    for cr in range(len(names)):\n",
    "        path = \"{}.txt\".format(names[cr])\n",
    "        h.compress(path)\n",
    "        n=names[cr]\n",
    "        with open(f\"{n}_c.bin\",\"rb\") as file, open(f\"{n}_cl.bin\",\"wb\") as out:\n",
    "            plaintext = b64encode(file.read())\n",
    "            appended = aes.saturar(plaintext)\n",
    "            ciphertext, nonce[cr]= aes.encrypt(appended,key,mode)\n",
    "            #ciphertext = aes.encrypt(appended,key,mode)\n",
    "            out.write(ciphertext)\n",
    "        os.remove(f\"{n}.txt\")\n",
    "        os.remove(f\"{n}_c.bin\")\n",
    "    return nonce"
   ]
  },
  {
   "cell_type": "code",
   "execution_count": 41,
   "metadata": {},
   "outputs": [],
   "source": [
    "def decryptMain(imageName, key, mode, nonce=None):\n",
    "    h = HuffmanCoding()\n",
    "    for cr in range(len(names)):\n",
    "        n =names[cr]\n",
    "        with open(\"{}_cl.bin\".format(n),\"rb\") as file, open(\"{}_c.bin\".format(n),\"wb\") as out:\n",
    "            if mode == \"ECB\":\n",
    "                decrypted = aes.decrypt(file.read(),key,mode)\n",
    "            else:\n",
    "                decrypted = aes.decrypt(file.read(),key,mode, nonce[cr])\n",
    "            satured= aes.remove_space_padding(decrypted)\n",
    "            plaintextout = b64decode(satured)\n",
    "            out.write(plaintextout)\n",
    "        path = \"{}_c.bin\".format(names[cr])\n",
    "        h.decompress(path)\n",
    "    name_recon = dwt.ReconstructDWT()\n",
    "    imageio.imwrite('{}_r.png'.format(imageName), name_recon)\n",
    "    for trash in names:\n",
    "            os.remove(f\"{trash}.txt\")\n",
    "            os.remove(f\"{trash}d.txt\")\n",
    "            os.remove(f\"{trash}_c.bin\")"
   ]
  },
  {
   "cell_type": "code",
   "execution_count": 42,
   "metadata": {},
   "outputs": [],
   "source": [
    "dir=\"Analisis/Images/\"\n",
    "name =\"lena.png\"\n",
    "key = Random.new().read(16)"
   ]
  },
  {
   "cell_type": "code",
   "execution_count": 43,
   "metadata": {},
   "outputs": [
    {
     "name": "stdout",
     "output_type": "stream",
     "text": [
      "47.324 %\n",
      "8.421 s\n",
      "48.136 %\n",
      "8.165 s\n",
      "48.114 %\n",
      "8.937 s\n",
      "48.066 %\n",
      "9.288 s\n"
     ]
    }
   ],
   "source": [
    "nonce=encryptMain(dir+name,key,\"OFB\")"
   ]
  },
  {
   "cell_type": "code",
   "execution_count": 44,
   "metadata": {},
   "outputs": [
    {
     "data": {
      "text/plain": [
       "b'\\xdd\\xe6N\\x04\\xa2 f\\xc9.\\xdc\\xe2\\n\\x9d\\x19\\xfe\\x19'"
      ]
     },
     "execution_count": 44,
     "metadata": {},
     "output_type": "execute_result"
    }
   ],
   "source": [
    "key"
   ]
  },
  {
   "cell_type": "code",
   "execution_count": 28,
   "metadata": {},
   "outputs": [
    {
     "data": {
      "text/plain": [
       "b'\\xado\\xa8h\\n\\xfd\\x1a8J\\xa1\\xc3DH.\\xab\\xa9'"
      ]
     },
     "execution_count": 28,
     "metadata": {},
     "output_type": "execute_result"
    }
   ],
   "source": [
    "key=b'\\xado\\xa8h\\n\\xfd\\x1a8J\\xa1\\xc3DH.\\xab\\xa9'"
   ]
  },
  {
   "cell_type": "code",
   "execution_count": 35,
   "metadata": {},
   "outputs": [
    {
     "ename": "UnicodeDecodeError",
     "evalue": "'utf-8' codec can't decode byte 0xfa in position 0: invalid start byte",
     "output_type": "error",
     "traceback": [
      "\u001b[1;31m---------------------------------------------------------------------------\u001b[0m",
      "\u001b[1;31mUnicodeDecodeError\u001b[0m                        Traceback (most recent call last)",
      "\u001b[1;32m<ipython-input-35-655931bb4bce>\u001b[0m in \u001b[0;36m<module>\u001b[1;34m\u001b[0m\n\u001b[1;32m----> 1\u001b[1;33m \u001b[0mdecryptMain\u001b[0m\u001b[1;33m(\u001b[0m\u001b[1;34m\"lena\"\u001b[0m\u001b[1;33m,\u001b[0m\u001b[0mkey\u001b[0m\u001b[1;33m,\u001b[0m\u001b[1;34m\"OFB\"\u001b[0m\u001b[1;33m,\u001b[0m \u001b[0mnonce\u001b[0m\u001b[1;33m)\u001b[0m\u001b[1;33m\u001b[0m\u001b[1;33m\u001b[0m\u001b[0m\n\u001b[0m",
      "\u001b[1;32m<ipython-input-30-9e0dee65ec87>\u001b[0m in \u001b[0;36mdecryptMain\u001b[1;34m(imageName, key, mode, nonce)\u001b[0m\n\u001b[0;32m     12\u001b[0m             \u001b[0mout\u001b[0m\u001b[1;33m.\u001b[0m\u001b[0mwrite\u001b[0m\u001b[1;33m(\u001b[0m\u001b[0mplaintextout\u001b[0m\u001b[1;33m)\u001b[0m\u001b[1;33m\u001b[0m\u001b[1;33m\u001b[0m\u001b[0m\n\u001b[0;32m     13\u001b[0m         \u001b[0mpath\u001b[0m \u001b[1;33m=\u001b[0m \u001b[1;34m\"{}_c.bin\"\u001b[0m\u001b[1;33m.\u001b[0m\u001b[0mformat\u001b[0m\u001b[1;33m(\u001b[0m\u001b[0mnames\u001b[0m\u001b[1;33m[\u001b[0m\u001b[0mcr\u001b[0m\u001b[1;33m]\u001b[0m\u001b[1;33m)\u001b[0m\u001b[1;33m\u001b[0m\u001b[1;33m\u001b[0m\u001b[0m\n\u001b[1;32m---> 14\u001b[1;33m         \u001b[0mh\u001b[0m\u001b[1;33m.\u001b[0m\u001b[0mdecompress\u001b[0m\u001b[1;33m(\u001b[0m\u001b[0mpath\u001b[0m\u001b[1;33m)\u001b[0m\u001b[1;33m\u001b[0m\u001b[1;33m\u001b[0m\u001b[0m\n\u001b[0m\u001b[0;32m     15\u001b[0m     \u001b[0mname_recon\u001b[0m \u001b[1;33m=\u001b[0m \u001b[0mdwt\u001b[0m\u001b[1;33m.\u001b[0m\u001b[0mReconstructDWT\u001b[0m\u001b[1;33m(\u001b[0m\u001b[1;33m)\u001b[0m\u001b[1;33m\u001b[0m\u001b[1;33m\u001b[0m\u001b[0m\n\u001b[0;32m     16\u001b[0m     \u001b[0mimageio\u001b[0m\u001b[1;33m.\u001b[0m\u001b[0mimwrite\u001b[0m\u001b[1;33m(\u001b[0m\u001b[1;34m'{}_r.png'\u001b[0m\u001b[1;33m.\u001b[0m\u001b[0mformat\u001b[0m\u001b[1;33m(\u001b[0m\u001b[0mimageName\u001b[0m\u001b[1;33m)\u001b[0m\u001b[1;33m,\u001b[0m \u001b[0mname_recon\u001b[0m\u001b[1;33m)\u001b[0m\u001b[1;33m\u001b[0m\u001b[1;33m\u001b[0m\u001b[0m\n",
      "\u001b[1;32m~\\Desktop\\ProyectoT\\Creado\\scripts\\Proyecto\\Huff.py\u001b[0m in \u001b[0;36mdecompress\u001b[1;34m(self, compressedfile)\u001b[0m\n\u001b[0;32m    168\u001b[0m         \u001b[0mfilename_split\u001b[0m \u001b[1;33m=\u001b[0m \u001b[0mcompressedfile\u001b[0m\u001b[1;33m.\u001b[0m\u001b[0msplit\u001b[0m\u001b[1;33m(\u001b[0m\u001b[1;34m'_'\u001b[0m\u001b[1;33m)\u001b[0m\u001b[1;33m\u001b[0m\u001b[1;33m\u001b[0m\u001b[0m\n\u001b[0;32m    169\u001b[0m         \u001b[1;31m# get \"header\"\u001b[0m\u001b[1;33m\u001b[0m\u001b[1;33m\u001b[0m\u001b[1;33m\u001b[0m\u001b[0m\n\u001b[1;32m--> 170\u001b[1;33m         \u001b[0mheader\u001b[0m \u001b[1;33m=\u001b[0m \u001b[0mopen\u001b[0m\u001b[1;33m(\u001b[0m\u001b[0mcompressedfile\u001b[0m\u001b[1;33m,\u001b[0m \u001b[1;34m'rb'\u001b[0m\u001b[1;33m)\u001b[0m\u001b[1;33m.\u001b[0m\u001b[0mreadline\u001b[0m\u001b[1;33m(\u001b[0m\u001b[1;33m)\u001b[0m\u001b[1;33m.\u001b[0m\u001b[0mdecode\u001b[0m\u001b[1;33m(\u001b[0m\u001b[1;33m)\u001b[0m\u001b[1;33m\u001b[0m\u001b[1;33m\u001b[0m\u001b[0m\n\u001b[0m\u001b[0;32m    171\u001b[0m         \u001b[1;31m# header as object literal\u001b[0m\u001b[1;33m\u001b[0m\u001b[1;33m\u001b[0m\u001b[1;33m\u001b[0m\u001b[0m\n\u001b[0;32m    172\u001b[0m         \u001b[0mheader\u001b[0m \u001b[1;33m=\u001b[0m \u001b[0mast\u001b[0m\u001b[1;33m.\u001b[0m\u001b[0mliteral_eval\u001b[0m\u001b[1;33m(\u001b[0m\u001b[0mheader\u001b[0m\u001b[1;33m)\u001b[0m\u001b[1;33m\u001b[0m\u001b[1;33m\u001b[0m\u001b[0m\n",
      "\u001b[1;31mUnicodeDecodeError\u001b[0m: 'utf-8' codec can't decode byte 0xfa in position 0: invalid start byte"
     ]
    }
   ],
   "source": [
    "decryptMain(\"lena\",key,\"OFB\", nonce)"
   ]
  },
  {
   "cell_type": "code",
   "execution_count": 5,
   "metadata": {},
   "outputs": [
    {
     "name": "stdout",
     "output_type": "stream",
     "text": [
      "I started barbara.png\n",
      "47.446 %\n",
      "8.224 s\n",
      "48.161 %\n",
      "7.673 s\n",
      "48.165 %\n",
      "8.364 s\n",
      "48.157 %\n",
      "7.187 s\n",
      "11.386 s\n",
      "12.184 s\n",
      "11.915 s\n",
      "12.229 s\n"
     ]
    },
    {
     "name": "stderr",
     "output_type": "stream",
     "text": [
      "WARNING:root:Lossy conversion from float64 to uint8. Range [12.000000000000004, 246.00000000000006]. Convert image to uint8 prior to saving to suppress this warning.\n"
     ]
    },
    {
     "name": "stdout",
     "output_type": "stream",
     "text": [
      "I started color.png\n",
      "29.397 %\n",
      "13.528 s\n",
      "44.416 %\n",
      "26.018 s\n",
      "45.655 %\n",
      "27.445 s\n",
      "45.654 %\n",
      "25.354 s\n",
      "19.792 s\n",
      "34.561 s\n",
      "37.72 s\n",
      "36.411 s\n"
     ]
    },
    {
     "name": "stderr",
     "output_type": "stream",
     "text": [
      "WARNING:root:Lossy conversion from float64 to uint8. Range [96.00000000000004, 216.00000000000009]. Convert image to uint8 prior to saving to suppress this warning.\n"
     ]
    },
    {
     "name": "stdout",
     "output_type": "stream",
     "text": [
      "I started eye.png\n",
      "47.38 %\n",
      "901.013 s\n",
      "48.078 %\n",
      "923.869 s\n",
      "48.071 %\n",
      "916.535 s\n",
      "48.002 %\n",
      "914.619 s\n",
      "977.456 s\n",
      "1040.271 s\n",
      "1034.876 s\n",
      "1035.319 s\n"
     ]
    },
    {
     "name": "stderr",
     "output_type": "stream",
     "text": [
      "WARNING:root:Lossy conversion from float64 to uint8. Range [-8.659739592076221e-15, 255.00000000000023]. Convert image to uint8 prior to saving to suppress this warning.\n"
     ]
    },
    {
     "name": "stdout",
     "output_type": "stream",
     "text": [
      "I started lena.png\n",
      "47.324 %\n",
      "8.584 s\n",
      "48.136 %\n",
      "8.0 s\n",
      "48.114 %\n",
      "7.101 s\n",
      "48.066 %\n",
      "8.357 s\n",
      "11.026 s\n",
      "13.884 s\n",
      "13.449 s\n",
      "14.535 s\n"
     ]
    },
    {
     "name": "stderr",
     "output_type": "stream",
     "text": [
      "WARNING:root:Lossy conversion from float64 to uint8. Range [38.99999999999999, 245.00000000000009]. Convert image to uint8 prior to saving to suppress this warning.\n"
     ]
    },
    {
     "name": "stdout",
     "output_type": "stream",
     "text": [
      "I started lenaV2.png\n",
      "47.066 %\n",
      "52.214 s\n",
      "47.663 %\n",
      "49.834 s\n",
      "47.757 %\n",
      "48.995 s\n",
      "47.468 %\n",
      "48.601 s\n",
      "59.601 s\n",
      "64.686 s\n",
      "65.894 s\n",
      "65.064 s\n"
     ]
    },
    {
     "name": "stderr",
     "output_type": "stream",
     "text": [
      "WARNING:root:Lossy conversion from float64 to uint8. Range [1.9999999999999967, 255.0000000000001]. Convert image to uint8 prior to saving to suppress this warning.\n"
     ]
    },
    {
     "name": "stdout",
     "output_type": "stream",
     "text": [
      "I started logo.png\n",
      "35.652 %\n",
      "0.476 s\n",
      "46.502 %\n",
      "0.629 s\n",
      "47.221 %\n",
      "0.488 s\n",
      "47.06 %\n",
      "0.487 s\n",
      "1.413 s\n",
      "1.643 s\n",
      "1.749 s\n",
      "1.537 s\n"
     ]
    },
    {
     "name": "stderr",
     "output_type": "stream",
     "text": [
      "WARNING:root:Lossy conversion from float64 to uint8. Range [-4.263256414560601e-14, 255.00000000000014]. Convert image to uint8 prior to saving to suppress this warning.\n"
     ]
    },
    {
     "name": "stdout",
     "output_type": "stream",
     "text": [
      "I started Mandrill.png\n",
      "47.408 %\n",
      "9.042 s\n",
      "48.114 %\n",
      "9.576 s\n",
      "48.133 %\n",
      "7.141 s\n",
      "48.147 %\n",
      "9.532 s\n",
      "14.78 s\n",
      "15.309 s\n",
      "12.946 s\n",
      "12.685 s\n"
     ]
    },
    {
     "name": "stderr",
     "output_type": "stream",
     "text": [
      "WARNING:root:Lossy conversion from float64 to uint8. Range [-3.197442310920451e-14, 240.00000000000009]. Convert image to uint8 prior to saving to suppress this warning.\n"
     ]
    },
    {
     "name": "stdout",
     "output_type": "stream",
     "text": [
      "I started peppers.png\n",
      "47.439 %\n",
      "9.032 s\n",
      "48.183 %\n",
      "8.017 s\n",
      "48.189 %\n",
      "7.123 s\n",
      "48.207 %\n",
      "7.723 s\n",
      "11.113 s\n",
      "12.426 s\n",
      "13.417 s\n",
      "13.181 s\n"
     ]
    },
    {
     "name": "stderr",
     "output_type": "stream",
     "text": [
      "WARNING:root:Lossy conversion from float64 to uint8. Range [-4.440892098500626e-16, 227.0000000000001]. Convert image to uint8 prior to saving to suppress this warning.\n"
     ]
    },
    {
     "name": "stdout",
     "output_type": "stream",
     "text": [
      "I started pinguin.png\n",
      "33.817 %\n",
      "4.391 s\n",
      "44.68 %\n",
      "8.315 s\n",
      "45.958 %\n",
      "6.649 s\n",
      "44.806 %\n",
      "5.419 s\n",
      "6.697 s\n",
      "9.659 s\n",
      "9.236 s\n",
      "9.625 s\n"
     ]
    },
    {
     "name": "stderr",
     "output_type": "stream",
     "text": [
      "WARNING:root:Lossy conversion from float64 to uint8. Range [-3.552713678800501e-14, 255.0000000000002]. Convert image to uint8 prior to saving to suppress this warning.\n"
     ]
    },
    {
     "name": "stdout",
     "output_type": "stream",
     "text": [
      "I started scale.png\n",
      "47.07 %\n",
      "4.576 s\n",
      "47.232 %\n",
      "4.148 s\n",
      "47.377 %\n",
      "3.801 s\n",
      "47.152 %\n",
      "3.534 s\n",
      "6.523 s\n",
      "7.807 s\n",
      "7.188 s\n",
      "8.081 s\n"
     ]
    },
    {
     "name": "stderr",
     "output_type": "stream",
     "text": [
      "WARNING:root:Lossy conversion from float64 to uint8. Range [-1.0824674490095276e-15, 255.00000000000017]. Convert image to uint8 prior to saving to suppress this warning.\n"
     ]
    }
   ],
   "source": [
    "dir=\"Images/\"\n",
    "for files in os.listdir(dir):\n",
    "    file = dir+files\n",
    "    if file[-4:] != \".png\":\n",
    "        continue\n",
    "    key = Random.new().read(16)\n",
    "    start=time.time()\n",
    "    print(\"I started \"+files)\n",
    "    nonce = encryptMain(file,key, mode=\"OFB\")\n",
    "    #encryptMain(file,key, mode=\"ECB\")\n",
    "    midle=time.time()\n",
    "    try:\n",
    "        decryptMain(files[:-4],key,mode=\"OFB\", nonce=nonce)\n",
    "        #decryptMain(files[:-4],key,mode=\"ECB\")\n",
    "        end= time.time()\n",
    "    except:\n",
    "        enc = midle - start\n",
    "        print(file+\" has failed\")\n",
    "        enc = midle - start\n",
    "        f=open(f\"{files[:-4]}.txt\",\"w\")\n",
    "        f.write(\"Title: \"+file+\"\\n\")\n",
    "        f.write(f\"key: {key}\\n\")\n",
    "        f.write(f\"iv: {nonce}\\n\")\n",
    "        f.write(f\"Time encrypted: {enc}\\n\")\n",
    "        f.close()\n",
    "        continue\n",
    "        \n",
    "    enc = midle - start\n",
    "    des = end - midle\n",
    "    \n",
    "    f=open(f\"{files[:-4]}.txt\",\"w\")\n",
    "    f.write(\"Title: \"+file+\"\\n\")\n",
    "    f.write(f\"key: {key}\\n\")\n",
    "    f.write(f\"iv: {nonce}\\n\")\n",
    "    f.write(f\"Time encrypted: {enc}\\n\")\n",
    "    f.write(f\"Time encrypted: {des}\\n\")\n",
    "    total=end - start\n",
    "    f.write(f\"Total: {total}\")\n",
    "    f.close()\n",
    "    if not os.path.exists(file[:-4]):\n",
    "        os.makedirs(file[:-4])\n",
    "    for clf in names:\n",
    "        shutil.move(f\"{clf}_cl.bin\",file[:-4])\n",
    "    shutil.move(f\"{files[:-4]}_r.png\",file[:-4])\n",
    "    shutil.move(file,file[:-4])\n",
    "    shutil.move(f\"{files[:-4]}.txt\",file[:-4])"
   ]
  },
  {
   "cell_type": "code",
   "execution_count": 4,
   "metadata": {},
   "outputs": [
    {
     "name": "stdout",
     "output_type": "stream",
     "text": [
      "barbara\n",
      "color\n",
      "eye\n",
      "lena\n",
      "lenaV2\n",
      "logo\n",
      "Mandrill\n",
      "peppers\n",
      "pinguin\n",
      "scale\n"
     ]
    }
   ],
   "source": [
    "dir=\"Analisis/pruebasDeEncriptado/aes_OCB/\"\n",
    "for image in os.listdir(dir)[:-1]:\n",
    "    dirImg=dir+f\"{names}/\"\n",
    "    \n",
    "    with open(dirImg+f\"{image}.txt\",r) as file:\n",
    "        text=file.read()\n",
    "        key, nonce = findCredentials(text)\n",
    "        for n in names:\n",
    "            shutil.copy(dirImg+f\"{n}_cl.bin\",f\"{n}_cl.bin\")\n",
    "    try:\n",
    "        decryptMain(image,key,dir[-4:-1],nonce)\n",
    "    except:\n",
    "        print(f\"{image} fail\")"
   ]
  },
  {
   "cell_type": "code",
   "execution_count": 69,
   "metadata": {},
   "outputs": [],
   "source": [
    "def findCredentials(text):\n",
    "    for c in range(len(text)):\n",
    "        if text[c:c+3] == \"key\":\n",
    "            start=c+5\n",
    "        elif k[c:c+5] == \"nonce\":\n",
    "            mid=c\n",
    "            key=k[start:mid]\n",
    "        elif k[c:c+4] == \"Time\":\n",
    "            nonce=k[mid+7:c]\n",
    "            break\n",
    "    key = k[2:-1].encode\n",
    "    non=[]\n",
    "    for c in range(len(nonce)):\n",
    "        if nonce[c:c+2]==\"b'\":\n",
    "            start=c+2\n",
    "        elif nonce[c:c+2]==(\"',\" or \"']\"):\n",
    "            end=c-1\n",
    "            non.append(nonce[start:end].encode())\n",
    "    return key, non"
   ]
  },
  {
   "cell_type": "code",
   "execution_count": null,
   "metadata": {},
   "outputs": [],
   "source": []
  }
 ],
 "metadata": {
  "kernelspec": {
   "display_name": "Python 3",
   "language": "python",
   "name": "python3"
  },
  "language_info": {
   "codemirror_mode": {
    "name": "ipython",
    "version": 3
   },
   "file_extension": ".py",
   "mimetype": "text/x-python",
   "name": "python",
   "nbconvert_exporter": "python",
   "pygments_lexer": "ipython3",
   "version": "3.7.1"
  }
 },
 "nbformat": 4,
 "nbformat_minor": 2
}
