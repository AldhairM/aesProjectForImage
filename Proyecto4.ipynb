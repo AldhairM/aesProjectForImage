{
 "cells": [
  {
   "cell_type": "code",
   "execution_count": 12,
   "metadata": {},
   "outputs": [],
   "source": [
    "from base64 import b64decode, b64encode\n",
    "from Crypto import Random\n",
    "import imageio\n",
    "import cv2\n",
    "import shutil\n",
    "import time\n",
    "import sys, os\n",
    "sys.path.insert(1, '/lib/')\n",
    "\n",
    "import aes\n",
    "import dwt\n",
    "from Huff import HuffmanCoding"
   ]
  },
  {
   "cell_type": "code",
   "execution_count": 2,
   "metadata": {},
   "outputs": [],
   "source": [
    "names = [\"a\", \"h\", \"v\", \"d\"]"
   ]
  },
  {
   "cell_type": "code",
   "execution_count": 3,
   "metadata": {},
   "outputs": [],
   "source": [
    "def encryptMain(image, key, mode):\n",
    "    nonce=[\"\",\"\",\"\",\"\"]\n",
    "    data = cv2.imread(image, cv2.IMREAD_GRAYSCALE)\n",
    "    coeffs_from_arr = dwt.ProcesoDWT(data)\n",
    "    dwt.Save_txt(coeffs_from_arr)\n",
    "    h = HuffmanCoding()\n",
    "    for cr in range(len(names)):\n",
    "        path = \"{}.txt\".format(names[cr])\n",
    "        h.compress(path)\n",
    "        n=names[cr]\n",
    "        with open(f\"{n}_c.bin\",\"rb\") as file, open(f\"{n}_cl.bin\",\"wb\") as out:\n",
    "            plaintext = b64encode(file.read())\n",
    "            appended = aes.saturar(plaintext)\n",
    "            #ciphertext, nonce[cr]= aes.encrypt(appended,key,mode)\n",
    "            ciphertext = aes.encrypt(appended,key,mode)\n",
    "            out.write(ciphertext)\n",
    "        os.remove(f\"{n}.txt\")\n",
    "        #os.remove(f\"{n}_c.bin\")\n",
    "    #return nonce"
   ]
  },
  {
   "cell_type": "code",
   "execution_count": 4,
   "metadata": {},
   "outputs": [],
   "source": [
    "def decryptMain(imageName, key, mode, nonce=None):\n",
    "    h = HuffmanCoding()\n",
    "    for cr in range(len(names)):\n",
    "        n =names[cr]\n",
    "        with open(\"{}_cl.bin\".format(n),\"rb\") as file, open(\"{}_c.bin\".format(n),\"wb\") as out:\n",
    "            if mode == \"ECB\":\n",
    "                decrypted = aes.decrypt(file.read(),key,mode)\n",
    "            else:\n",
    "                decrypted = aes.decrypt(file.read(),key,mode, nonce[cr])\n",
    "            satured= aes.remove_space_padding(decrypted)\n",
    "            plaintextout = b64decode(satured)\n",
    "            out.write(plaintextout)\n",
    "        path = \"{}_c.bin\".format(names[cr])\n",
    "        h.decompress(path)\n",
    "    name_recon = dwt.ReconstructDWT()\n",
    "    imageio.imwrite('{}_r.png'.format(imageName), name_recon)\n",
    "    for trash in names:\n",
    "            os.remove(f\"{trash}.txt\")\n",
    "            os.remove(f\"{trash}d.txt\")\n",
    "            os.remove(f\"{trash}_c.bin\")"
   ]
  },
  {
   "cell_type": "code",
   "execution_count": 17,
   "metadata": {},
   "outputs": [],
   "source": [
    "dir=\"Images/\"\n",
    "name =\"barbara.png\"\n",
    "key = Random.new().read(16)"
   ]
  },
  {
   "cell_type": "code",
   "execution_count": 18,
   "metadata": {},
   "outputs": [
    {
     "name": "stdout",
     "output_type": "stream",
     "text": [
      "47.446 %\n",
      "7.218 s\n",
      "48.161 %\n",
      "8.016 s\n",
      "48.165 %\n",
      "6.989 s\n",
      "48.157 %\n",
      "7.455 s\n"
     ]
    }
   ],
   "source": [
    "encryptMain(dir+name,key,\"ECB\")"
   ]
  },
  {
   "cell_type": "code",
   "execution_count": null,
   "metadata": {},
   "outputs": [],
   "source": [
    "decryptMain(\"lena\",key , \"ECB\")"
   ]
  },
  {
   "cell_type": "code",
   "execution_count": 5,
   "metadata": {},
   "outputs": [
    {
     "name": "stdout",
     "output_type": "stream",
     "text": [
      "I started barbara.png\n",
      "47.446 %\n",
      "7.314 s\n",
      "48.161 %\n",
      "7.933 s\n",
      "48.165 %\n",
      "7.55 s\n",
      "48.157 %\n",
      "7.491 s\n",
      "11.289 s\n",
      "11.603 s\n",
      "12.602 s\n",
      "12.382 s\n"
     ]
    },
    {
     "name": "stderr",
     "output_type": "stream",
     "text": [
      "WARNING:root:Lossy conversion from float64 to uint8. Range [12.000000000000004, 246.00000000000006]. Convert image to uint8 prior to saving to suppress this warning.\n"
     ]
    },
    {
     "name": "stdout",
     "output_type": "stream",
     "text": [
      "I started black.png\n",
      "17.023 %\n",
      "0.229 s\n",
      "17.023 %\n",
      "0.308 s\n",
      "17.023 %\n",
      "0.315 s\n",
      "17.023 %\n",
      "0.312 s\n",
      "0.662 s\n",
      "0.581 s\n",
      "0.61 s\n",
      "0.876 s\n",
      "Images/black.png has failed\n",
      "I started color.png\n",
      "29.397 %\n",
      "12.909 s\n",
      "44.416 %\n",
      "25.308 s\n",
      "45.655 %\n",
      "25.609 s\n",
      "45.654 %\n",
      "26.252 s\n",
      "19.116 s\n",
      "34.907 s\n",
      "40.634 s\n",
      "37.953 s\n"
     ]
    },
    {
     "name": "stderr",
     "output_type": "stream",
     "text": [
      "WARNING:root:Lossy conversion from float64 to uint8. Range [96.00000000000004, 216.00000000000009]. Convert image to uint8 prior to saving to suppress this warning.\n"
     ]
    },
    {
     "name": "stdout",
     "output_type": "stream",
     "text": [
      "I started eye.png\n",
      "47.38 %\n",
      "1001.191 s\n",
      "48.078 %\n",
      "986.515 s\n",
      "48.071 %\n",
      "957.426 s\n",
      "48.002 %\n",
      "989.542 s\n",
      "1073.82 s\n",
      "1119.513 s\n",
      "1139.691 s\n",
      "1107.145 s\n"
     ]
    },
    {
     "name": "stderr",
     "output_type": "stream",
     "text": [
      "WARNING:root:Lossy conversion from float64 to uint8. Range [-8.659739592076221e-15, 255.00000000000023]. Convert image to uint8 prior to saving to suppress this warning.\n"
     ]
    },
    {
     "name": "stdout",
     "output_type": "stream",
     "text": [
      "I started lena.png\n",
      "47.324 %\n",
      "9.259 s\n",
      "48.136 %\n",
      "8.522 s\n",
      "48.114 %\n",
      "8.408 s\n",
      "48.066 %\n",
      "7.592 s\n",
      "12.305 s\n",
      "13.595 s\n",
      "13.548 s\n",
      "13.998 s\n"
     ]
    },
    {
     "name": "stderr",
     "output_type": "stream",
     "text": [
      "WARNING:root:Lossy conversion from float64 to uint8. Range [38.99999999999999, 245.00000000000009]. Convert image to uint8 prior to saving to suppress this warning.\n"
     ]
    },
    {
     "name": "stdout",
     "output_type": "stream",
     "text": [
      "I started lena_r.png\n",
      "47.076 %\n",
      "61.69 s\n",
      "47.681 %\n",
      "53.909 s\n",
      "47.796 %\n",
      "53.922 s\n",
      "47.518 %\n",
      "53.813 s\n",
      "65.455 s\n",
      "69.533 s\n",
      "70.352 s\n",
      "69.567 s\n"
     ]
    },
    {
     "name": "stderr",
     "output_type": "stream",
     "text": [
      "WARNING:root:Lossy conversion from float64 to uint8. Range [-1.3322676295501878e-15, 255.00000000000003]. Convert image to uint8 prior to saving to suppress this warning.\n"
     ]
    },
    {
     "name": "stdout",
     "output_type": "stream",
     "text": [
      "I started logo.png\n",
      "35.652 %\n",
      "0.457 s\n",
      "46.502 %\n",
      "0.615 s\n",
      "47.221 %\n",
      "0.696 s\n",
      "47.06 %\n",
      "0.603 s\n",
      "1.655 s\n",
      "1.627 s\n",
      "1.46 s\n",
      "1.377 s\n"
     ]
    },
    {
     "name": "stderr",
     "output_type": "stream",
     "text": [
      "WARNING:root:Lossy conversion from float64 to uint8. Range [-4.263256414560601e-14, 255.00000000000014]. Convert image to uint8 prior to saving to suppress this warning.\n"
     ]
    },
    {
     "name": "stdout",
     "output_type": "stream",
     "text": [
      "I started Mandrill.png\n",
      "47.408 %\n",
      "9.271 s\n",
      "48.114 %\n",
      "8.345 s\n",
      "48.133 %\n",
      "11.771 s\n",
      "48.147 %\n",
      "9.874 s\n",
      "13.325 s\n",
      "14.597 s\n",
      "13.862 s\n",
      "14.091 s\n"
     ]
    },
    {
     "name": "stderr",
     "output_type": "stream",
     "text": [
      "WARNING:root:Lossy conversion from float64 to uint8. Range [-3.197442310920451e-14, 240.00000000000009]. Convert image to uint8 prior to saving to suppress this warning.\n"
     ]
    },
    {
     "name": "stdout",
     "output_type": "stream",
     "text": [
      "I started peppers.png\n",
      "47.439 %\n",
      "9.507 s\n",
      "48.183 %\n",
      "8.389 s\n",
      "48.189 %\n",
      "8.545 s\n",
      "48.207 %\n",
      "7.79 s\n",
      "12.583 s\n",
      "13.649 s\n",
      "13.847 s\n",
      "13.917 s\n"
     ]
    },
    {
     "name": "stderr",
     "output_type": "stream",
     "text": [
      "WARNING:root:Lossy conversion from float64 to uint8. Range [-4.440892098500626e-16, 227.0000000000001]. Convert image to uint8 prior to saving to suppress this warning.\n"
     ]
    },
    {
     "name": "stdout",
     "output_type": "stream",
     "text": [
      "I started scale.png\n",
      "47.07 %\n",
      "4.97 s\n",
      "47.232 %\n",
      "5.337 s\n",
      "47.377 %\n",
      "4.023 s\n",
      "47.152 %\n",
      "3.814 s\n",
      "7.348 s\n",
      "7.423 s\n",
      "7.925 s\n",
      "8.115 s\n"
     ]
    },
    {
     "name": "stderr",
     "output_type": "stream",
     "text": [
      "WARNING:root:Lossy conversion from float64 to uint8. Range [-1.0824674490095276e-15, 255.00000000000017]. Convert image to uint8 prior to saving to suppress this warning.\n"
     ]
    }
   ],
   "source": [
    "dir=\"Images/\"\n",
    "for files in os.listdir(dir):\n",
    "    file = dir+files\n",
    "    if file[-4:] != \".png\":\n",
    "        continue\n",
    "    key = Random.new().read(16)\n",
    "    start=time.time()\n",
    "    print(\"I started \"+files)\n",
    "    #nonce = encryptMain(file,key, mode=\"OCB\")\n",
    "    encryptMain(file,key, mode=\"ECB\")\n",
    "    midle=time.time()\n",
    "    try:\n",
    "        #decryptMain(files[:-4],key,mode=\"OCB\", nonce=nonce)\n",
    "        decryptMain(files[:-4],key,mode=\"ECB\")\n",
    "        end= time.time()\n",
    "    except:\n",
    "        enc = midle - start\n",
    "        print(file+\" has failed\")\n",
    "        enc = midle - start\n",
    "        f=open(f\"{files[:-4]}.txt\",\"w\")\n",
    "        f.write(\"Title: \"+file+\"\\n\")\n",
    "        f.write(f\"key: {key}\")\n",
    "        #f.write(f\"nonce: {nonce}\")\n",
    "        f.write(f\"Time encrypted: {enc}\\n\")\n",
    "        f.close()\n",
    "        continue\n",
    "        \n",
    "    enc = midle - start\n",
    "    des = end - midle\n",
    "    \n",
    "    f=open(f\"{files[:-4]}.txt\",\"w\")\n",
    "    f.write(\"Title: \"+file+\"\\n\")\n",
    "    f.write(f\"key: {key}\")\n",
    "    #f.write(f\"nonce: {nonce}\")\n",
    "    f.write(f\"Time encrypted: {enc}\\n\")\n",
    "    f.write(f\"Time encrypted: {des}\\n\")\n",
    "    total=end - start\n",
    "    f.write(f\"Total: {total}\")\n",
    "    f.close()\n",
    "    if not os.path.exists(file[:-4]):\n",
    "        os.makedirs(file[:-4])\n",
    "    for clf in names:\n",
    "        shutil.move(f\"{clf}_cl.bin\",file[:-4])\n",
    "    shutil.move(f\"{files[:-4]}_r.png\",file[:-4])\n",
    "    shutil.move(file,file[:-4])\n",
    "    shutil.move(f\"{file[:-1]}.txt\",file[:-4])"
   ]
  },
  {
   "cell_type": "code",
   "execution_count": null,
   "metadata": {},
   "outputs": [],
   "source": []
  }
 ],
 "metadata": {
  "kernelspec": {
   "display_name": "Python 3",
   "language": "python",
   "name": "python3"
  },
  "language_info": {
   "codemirror_mode": {
    "name": "ipython",
    "version": 3
   },
   "file_extension": ".py",
   "mimetype": "text/x-python",
   "name": "python",
   "nbconvert_exporter": "python",
   "pygments_lexer": "ipython3",
   "version": "3.7.1"
  }
 },
 "nbformat": 4,
 "nbformat_minor": 2
}
