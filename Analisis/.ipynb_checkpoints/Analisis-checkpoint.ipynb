{
 "cells": [
  {
   "cell_type": "code",
   "execution_count": 21,
   "metadata": {},
   "outputs": [],
   "source": [
    "def getImage(num):\n",
    "    dir =\"Untitled Folder\\Images\"\n",
    "    img=[\"barbara\",\"black\",\"color\",\"eye\",\"lena\",\"logo\",\"Mandrill\",\"peppers\",\"pinguin\",\"scale\"]\n",
    "    return dir+img[num]+\".png\""
   ]
  },
  {
   "cell_type": "code",
   "execution_count": 12,
   "metadata": {},
   "outputs": [],
   "source": [
    "img=[\"barbara\",\"color\",\"eye\",\"lena\",\"logo\",\"Mandrill\",\"peppers\",\"pinguin\",\"scale\"]"
   ]
  },
  {
   "cell_type": "markdown",
   "metadata": {},
   "source": [
    "# PSNR y MSE\n",
    "https://www.geeksforgeeks.org/python-peak-signal-to-noise-ratio-psnr/"
   ]
  },
  {
   "cell_type": "code",
   "execution_count": 2,
   "metadata": {},
   "outputs": [],
   "source": [
    "from math import log10, sqrt \n",
    "import cv2\n",
    "import numpy as np \n",
    "import skimage    \n",
    "import imageio"
   ]
  },
  {
   "cell_type": "code",
   "execution_count": 3,
   "metadata": {},
   "outputs": [],
   "source": [
    "def PSNR(original, compressed): \n",
    "    mse = np.mean((original - compressed) ** 2) \n",
    "    if(mse == 0):  # MSE is zero means no noise is present in the signal . \n",
    "                  # Therefore PSNR have no importance. \n",
    "        return 100\n",
    "    max_pixel = 255.0\n",
    "    psnr = 20 * log10(max_pixel / sqrt(mse)) \n",
    "    return psnr, mse"
   ]
  },
  {
   "cell_type": "code",
   "execution_count": 4,
   "metadata": {},
   "outputs": [],
   "source": [
    "def calculate_psnr(img1, img2, max_value=255):\n",
    "    \"\"\"\"Calculating peak signal-to-noise ratio (PSNR) between two images.\"\"\"\n",
    "    mse = np.mean((np.array(img1, dtype=np.float32) - np.array(img2, dtype=np.float32)) ** 2)\n",
    "    if mse == 0:\n",
    "        return 100\n",
    "    psnr = 20 * np.log10(max_value / (np.sqrt(mse)))\n",
    "    return mse, psnr"
   ]
  },
  {
   "cell_type": "code",
   "execution_count": 5,
   "metadata": {},
   "outputs": [
    {
     "name": "stdout",
     "output_type": "stream",
     "text": [
      "(1432, 2212, 3)\n",
      "(1432, 2212, 3)\n"
     ]
    }
   ],
   "source": [
    "init = cv2.imread(\"Imagenes/eye.png\")\n",
    "print(init.shape)\n",
    "out = cv2.imread(\"Imagenes/eye_r.png\")\n",
    "print(out.shape)"
   ]
  },
  {
   "cell_type": "code",
   "execution_count": 6,
   "metadata": {},
   "outputs": [
    {
     "data": {
      "text/plain": [
       "100"
      ]
     },
     "execution_count": 6,
     "metadata": {},
     "output_type": "execute_result"
    }
   ],
   "source": [
    "calculate_psnr(init,out)"
   ]
  },
  {
   "cell_type": "code",
   "execution_count": 8,
   "metadata": {},
   "outputs": [
    {
     "data": {
      "text/plain": [
       "100"
      ]
     },
     "execution_count": 8,
     "metadata": {},
     "output_type": "execute_result"
    }
   ],
   "source": [
    "PSNR(init, out) "
   ]
  },
  {
   "cell_type": "code",
   "execution_count": 14,
   "metadata": {},
   "outputs": [
    {
     "name": "stdout",
     "output_type": "stream",
     "text": [
      "barbara\n",
      "(30.532806, 33.2831361138952)\n",
      "(33.28313582673327, 30.53281021118164)\n",
      "color\n",
      "(3709.7979, 12.43730091645344)\n",
      "(27.133997197586602, 125.8)\n",
      "eye\n",
      "100\n",
      "100\n",
      "lena failed\n",
      "logo\n",
      "100\n",
      "100\n",
      "Mandrill\n",
      "(76.146706, 29.314292659846508)\n",
      "(29.314293071563682, 76.14669418334961)\n",
      "peppers\n",
      "(262.19888, 23.944495250513707)\n",
      "(28.011104567722725, 102.79450607299805)\n",
      "pinguin failed\n",
      "scale failed\n"
     ]
    }
   ],
   "source": [
    "for n in img:\n",
    "    init = cv2.imread(f\"Imagenes/{n}.png\")\n",
    "    out = cv2.imread(f\"Imagenes/{n}_r.png\")\n",
    "    try:\n",
    "        f=calculate_psnr(init,out)\n",
    "        s=PSNR(init,out)\n",
    "        print(n)\n",
    "        print(f)\n",
    "        print(s)\n",
    "    except:\n",
    "        print(f\"{n} failed\")"
   ]
  },
  {
   "cell_type": "code",
   "execution_count": 11,
   "metadata": {},
   "outputs": [
    {
     "data": {
      "text/plain": [
       "'black'"
      ]
     },
     "execution_count": 11,
     "metadata": {},
     "output_type": "execute_result"
    }
   ],
   "source": [
    "n"
   ]
  },
  {
   "cell_type": "markdown",
   "metadata": {},
   "source": [
    "# NPCR y UACI"
   ]
  },
  {
   "cell_type": "code",
   "execution_count": 15,
   "metadata": {},
   "outputs": [],
   "source": [
    "def npcr(inpt1,inpt2):\n",
    "    Rows1=len(inpt1)\n",
    "    Cols1=len(inpt1[0])\n",
    "    Rows2=len(inpt2)\n",
    "    Cols2=len(inpt2[0])\n",
    "    if Rows1 == Rows2 and Cols1 == Cols2:\n",
    "        # Calculo del NPCR\n",
    "        D1=np.zeros(Rows1*Cols1).astype(float)\n",
    "        D2=np.reshape(D1, (Rows1, Cols1))\n",
    "        counter=0\n",
    "        for row in range(Rows1):\n",
    "            for col in range(Cols1):\n",
    "                if inpt1[row][col]==inpt2[row][col]:\n",
    "                    D2[row][col]=0\n",
    "                else:\n",
    "                    D2[row][col]=1\n",
    "                    counter=counter+1\n",
    "        npcr=float(100*counter)/float(Rows1*Cols1)\n",
    "        return npcr\n",
    "    else:\n",
    "        print(\"Las dimensiones de las entradas a la funcion npcr no concuerdan\")"
   ]
  },
  {
   "cell_type": "code",
   "execution_count": 39,
   "metadata": {},
   "outputs": [],
   "source": [
    "init = imageio.imread(\"Imagenes/Mandrill.png\")\n",
    "out = imageio.imread(\"Imagenes/Mandrill_r.png\")"
   ]
  },
  {
   "cell_type": "code",
   "execution_count": 40,
   "metadata": {},
   "outputs": [
    {
     "data": {
      "text/plain": [
       "99.84245300292969"
      ]
     },
     "execution_count": 40,
     "metadata": {},
     "output_type": "execute_result"
    }
   ],
   "source": [
    "npcr(init,out)"
   ]
  },
  {
   "cell_type": "code",
   "execution_count": 41,
   "metadata": {},
   "outputs": [
    {
     "ename": "ValueError",
     "evalue": "The truth value of an array with more than one element is ambiguous. Use a.any() or a.all()",
     "output_type": "error",
     "traceback": [
      "\u001b[1;31m---------------------------------------------------------------------------\u001b[0m",
      "\u001b[1;31mValueError\u001b[0m                                Traceback (most recent call last)",
      "\u001b[1;32m<ipython-input-41-5410194754ea>\u001b[0m in \u001b[0;36m<module>\u001b[1;34m\u001b[0m\n\u001b[0;32m      3\u001b[0m     \u001b[0mout\u001b[0m \u001b[1;33m=\u001b[0m \u001b[0mcv2\u001b[0m\u001b[1;33m.\u001b[0m\u001b[0mimread\u001b[0m\u001b[1;33m(\u001b[0m\u001b[1;34mf\"Imagenes/{n}_r.png\"\u001b[0m\u001b[1;33m)\u001b[0m\u001b[1;33m\u001b[0m\u001b[1;33m\u001b[0m\u001b[0m\n\u001b[0;32m      4\u001b[0m     \u001b[1;32mtry\u001b[0m\u001b[1;33m:\u001b[0m\u001b[1;33m\u001b[0m\u001b[1;33m\u001b[0m\u001b[0m\n\u001b[1;32m----> 5\u001b[1;33m         \u001b[0mf\u001b[0m\u001b[1;33m=\u001b[0m\u001b[0mnpcr\u001b[0m\u001b[1;33m(\u001b[0m\u001b[0minit\u001b[0m\u001b[1;33m,\u001b[0m\u001b[0mout\u001b[0m\u001b[1;33m)\u001b[0m\u001b[1;33m\u001b[0m\u001b[1;33m\u001b[0m\u001b[0m\n\u001b[0m\u001b[0;32m      6\u001b[0m         \u001b[0mprint\u001b[0m\u001b[1;33m(\u001b[0m\u001b[0mn\u001b[0m\u001b[1;33m)\u001b[0m\u001b[1;33m\u001b[0m\u001b[1;33m\u001b[0m\u001b[0m\n\u001b[0;32m      7\u001b[0m         \u001b[0mprint\u001b[0m\u001b[1;33m(\u001b[0m\u001b[0mf\u001b[0m\u001b[1;33m)\u001b[0m\u001b[1;33m\u001b[0m\u001b[1;33m\u001b[0m\u001b[0m\n",
      "\u001b[1;32m<ipython-input-15-e05b6ea89d6b>\u001b[0m in \u001b[0;36mnpcr\u001b[1;34m(inpt1, inpt2)\u001b[0m\n\u001b[0;32m     11\u001b[0m         \u001b[1;32mfor\u001b[0m \u001b[0mrow\u001b[0m \u001b[1;32min\u001b[0m \u001b[0mrange\u001b[0m\u001b[1;33m(\u001b[0m\u001b[0mRows1\u001b[0m\u001b[1;33m)\u001b[0m\u001b[1;33m:\u001b[0m\u001b[1;33m\u001b[0m\u001b[1;33m\u001b[0m\u001b[0m\n\u001b[0;32m     12\u001b[0m             \u001b[1;32mfor\u001b[0m \u001b[0mcol\u001b[0m \u001b[1;32min\u001b[0m \u001b[0mrange\u001b[0m\u001b[1;33m(\u001b[0m\u001b[0mCols1\u001b[0m\u001b[1;33m)\u001b[0m\u001b[1;33m:\u001b[0m\u001b[1;33m\u001b[0m\u001b[1;33m\u001b[0m\u001b[0m\n\u001b[1;32m---> 13\u001b[1;33m                 \u001b[1;32mif\u001b[0m \u001b[0minpt1\u001b[0m\u001b[1;33m[\u001b[0m\u001b[0mrow\u001b[0m\u001b[1;33m]\u001b[0m\u001b[1;33m[\u001b[0m\u001b[0mcol\u001b[0m\u001b[1;33m]\u001b[0m\u001b[1;33m==\u001b[0m\u001b[0minpt2\u001b[0m\u001b[1;33m[\u001b[0m\u001b[0mrow\u001b[0m\u001b[1;33m]\u001b[0m\u001b[1;33m[\u001b[0m\u001b[0mcol\u001b[0m\u001b[1;33m]\u001b[0m\u001b[1;33m:\u001b[0m\u001b[1;33m\u001b[0m\u001b[1;33m\u001b[0m\u001b[0m\n\u001b[0m\u001b[0;32m     14\u001b[0m                     \u001b[0mD2\u001b[0m\u001b[1;33m[\u001b[0m\u001b[0mrow\u001b[0m\u001b[1;33m]\u001b[0m\u001b[1;33m[\u001b[0m\u001b[0mcol\u001b[0m\u001b[1;33m]\u001b[0m\u001b[1;33m=\u001b[0m\u001b[1;36m0\u001b[0m\u001b[1;33m\u001b[0m\u001b[1;33m\u001b[0m\u001b[0m\n\u001b[0;32m     15\u001b[0m                 \u001b[1;32melse\u001b[0m\u001b[1;33m:\u001b[0m\u001b[1;33m\u001b[0m\u001b[1;33m\u001b[0m\u001b[0m\n",
      "\u001b[1;31mValueError\u001b[0m: The truth value of an array with more than one element is ambiguous. Use a.any() or a.all()"
     ]
    }
   ],
   "source": [
    "for n in img:\n",
    "    init = cv2.imread(f\"Imagenes/{n}.png\")\n",
    "    out = cv2.imread(f\"Imagenes/{n}_r.png\")\n",
    "    try:\n",
    "        f=npcr(init,out)\n",
    "        print(n)\n",
    "        print(f)\n",
    "    except ZeroDivisionError:\n",
    "        print(f\"{n} failed\")"
   ]
  },
  {
   "cell_type": "markdown",
   "metadata": {},
   "source": [
    "# UACI"
   ]
  },
  {
   "cell_type": "code",
   "execution_count": 16,
   "metadata": {},
   "outputs": [],
   "source": [
    "def uaci(loc1,loc2):\n",
    "    image1=cv2.imread(loc1) \n",
    "    image2= cv2.imread(loc2) \n",
    "    pixel1=image1\n",
    "    pixel2=image2\n",
    "    sizeImage=image1.shape\n",
    "    value=0.0\n",
    "    for y in range(0,sizeImage[1]):\n",
    "        for x in range(0,sizeImage[0]):\n",
    "            value=(abs(pixel1[x,y][0]-pixel2[x,y][0])/255)+value\n",
    "\n",
    "    value=(value/(sizeImage[0]*sizeImage[1]))*100\n",
    "    return value"
   ]
  },
  {
   "cell_type": "code",
   "execution_count": 17,
   "metadata": {},
   "outputs": [],
   "source": [
    "def uacil(inpt1,inpt2):\n",
    "    Rows1=len(inpt1)\n",
    "    Cols1=len(inpt1[0])\n",
    "    Rows2=len(inpt2)\n",
    "    Cols2=len(inpt2[0])\n",
    "    if Rows1 == Rows2 and Cols1 == Cols2:\n",
    "        # Calculo del NPCR\n",
    "        D1=np.zeros(Rows1*Cols1).astype(float)\n",
    "        D2=np.reshape(D1, (Rows1, Cols1))\n",
    "        meanerror=0.0\n",
    "        error=0.0\n",
    "        for row in range(Rows1):\n",
    "            for col in range(Cols1):\n",
    "                error=abs(float(inpt1[row][col])-float(inpt2[row][col]))\n",
    "                meanerror=float(meanerror+error)\n",
    "        uaciResult=float(100*meanerror)/float(255*Rows1*Cols1)\n",
    "        return uaciResult\n",
    "    else:\n",
    "        print(\"Las dimensiones de las entradas a la funcion npcr no concuerdan\")\n",
    "    "
   ]
  },
  {
   "cell_type": "code",
   "execution_count": 93,
   "metadata": {},
   "outputs": [
    {
     "data": {
      "text/plain": [
       "0.6110650654720228"
      ]
     },
     "execution_count": 93,
     "metadata": {},
     "output_type": "execute_result"
    }
   ],
   "source": [
    "uaci(\"lena.png\", \"lena_r.png\")"
   ]
  },
  {
   "cell_type": "code",
   "execution_count": 18,
   "metadata": {},
   "outputs": [
    {
     "data": {
      "text/plain": [
       "0.6110650654725558"
      ]
     },
     "execution_count": 18,
     "metadata": {},
     "output_type": "execute_result"
    }
   ],
   "source": [
    "uaci(init,out)"
   ]
  },
  {
   "cell_type": "code",
   "execution_count": 19,
   "metadata": {},
   "outputs": [
    {
     "name": "stderr",
     "output_type": "stream",
     "text": [
      "C:\\ProgramData\\Anaconda3\\lib\\site-packages\\ipykernel_launcher.py:10: RuntimeWarning: overflow encountered in ubyte_scalars\n",
      "  # Remove the CWD from sys.path while we load stuff.\n"
     ]
    },
    {
     "name": "stdout",
     "output_type": "stream",
     "text": [
      "Las dimensiones de las entradas a la funcion npcr no concuerdan\n",
      "barbara\n",
      "32.161531635382964\n",
      "None\n",
      "Las dimensiones de las entradas a la funcion npcr no concuerdan\n",
      "color\n",
      "35.372549019417754\n",
      "None\n",
      "Las dimensiones de las entradas a la funcion npcr no concuerdan\n",
      "eye\n",
      "0.0\n",
      "None\n",
      "Las dimensiones de las entradas a la funcion npcr no concuerdan\n",
      "lena\n",
      "38.57282451555974\n",
      "None\n",
      "Las dimensiones de las entradas a la funcion npcr no concuerdan\n",
      "logo\n",
      "0.0\n",
      "None\n",
      "Las dimensiones de las entradas a la funcion npcr no concuerdan\n",
      "Mandrill\n",
      "96.98115180544792\n",
      "None\n",
      "Las dimensiones de las entradas a la funcion npcr no concuerdan\n",
      "peppers\n",
      "94.51969969502638\n",
      "None\n",
      "pinguin failed\n",
      "Las dimensiones de las entradas a la funcion npcr no concuerdan\n",
      "scale\n",
      "0.0\n",
      "None\n"
     ]
    }
   ],
   "source": [
    "for n in img:\n",
    "    init = f\"Imagenes/{n}.png\"\n",
    "    out = f\"Imagenes/{n}_r.png\"\n",
    "    try:\n",
    "        f=uaci(init,out)\n",
    "        s=uacil(init,out)\n",
    "        print(n)\n",
    "        print(f)\n",
    "        print(s)\n",
    "    except:\n",
    "        print(f\"{n} failed\")"
   ]
  },
  {
   "cell_type": "markdown",
   "metadata": {},
   "source": [
    "## Entropia"
   ]
  },
  {
   "cell_type": "code",
   "execution_count": 21,
   "metadata": {},
   "outputs": [],
   "source": [
    "def hist(labels):\n",
    "    value,counts = np.unique(labels, return_counts=True)\n",
    "    return value,counts\n",
    "\n",
    "def entropy(value,counts):\n",
    "    norm=np.sum(counts)\n",
    "    p=np.zeros(256)\n",
    "    for l in value:\n",
    "        p[l]=float(counts[l])/float(norm)\n",
    "    H=0.0\n",
    "    for l in value:\n",
    "        H=H+p[l]*np.log2(p[l])\t\n",
    "    H=H*(-1)\n",
    "    return H,p"
   ]
  },
  {
   "cell_type": "code",
   "execution_count": 6,
   "metadata": {},
   "outputs": [],
   "source": [
    "import imageio"
   ]
  },
  {
   "cell_type": "code",
   "execution_count": 24,
   "metadata": {},
   "outputs": [],
   "source": [
    "def entropyf(init):\n",
    "    marg = np.histogramdd(np.ravel(init), bins = 256)[0]/init.size\n",
    "    marg = list(filter(lambda p: p > 0, np.ravel(marg)))\n",
    "    entropy = -np.sum(np.multiply(marg, np.log2(marg)))\n",
    "    return entropy"
   ]
  },
  {
   "cell_type": "code",
   "execution_count": 40,
   "metadata": {},
   "outputs": [
    {
     "data": {
      "text/plain": [
       "7.7985362244200624"
      ]
     },
     "execution_count": 40,
     "metadata": {},
     "output_type": "execute_result"
    }
   ],
   "source": [
    "entropy"
   ]
  },
  {
   "cell_type": "code",
   "execution_count": 33,
   "metadata": {},
   "outputs": [],
   "source": [
    "entropy = skimage.measure.shannon_entropy(init)"
   ]
  },
  {
   "cell_type": "code",
   "execution_count": 26,
   "metadata": {},
   "outputs": [
    {
     "data": {
      "text/plain": [
       "7.898717143245934"
      ]
     },
     "execution_count": 26,
     "metadata": {},
     "output_type": "execute_result"
    }
   ],
   "source": [
    "entropyf(init)"
   ]
  },
  {
   "cell_type": "code",
   "execution_count": 28,
   "metadata": {},
   "outputs": [
    {
     "name": "stdout",
     "output_type": "stream",
     "text": [
      "barbara\n",
      "7.632119010904523\n",
      "7.632119010904523\n",
      "color\n",
      "2.321928094887362\n",
      "2.321928094887362\n",
      "eye\n",
      "7.123186112668394\n",
      "7.123186112668394\n",
      "lena\n",
      "6.969829819681192\n",
      "6.947189103140138\n",
      "logo\n",
      "2.0660954463366177\n",
      "2.0660954463366177\n",
      "Mandrill\n",
      "7.008012489452549\n",
      "7.008012489452549\n",
      "peppers\n",
      "7.593729622140703\n",
      "7.593729622140703\n",
      "pinguin failed\n",
      "scale\n",
      "7.898717143245934\n",
      "7.898703999305103\n"
     ]
    }
   ],
   "source": [
    "for n in img:\n",
    "    init = cv2.imread(f\"Imagenes/{n}.png\")\n",
    "    out = cv2.imread(f\"Imagenes/{n}_r.png\")\n",
    "    try:\n",
    "        f=entropyf(init)\n",
    "        #s=entropyf(init)\n",
    "        print(n)\n",
    "        print(f)\n",
    "        #print(s)\n",
    "        f=entropyf(out)\n",
    "       # s=entropyf(out)\n",
    "        print(f)\n",
    "        #rint(s)\n",
    "    except:\n",
    "        print(f\"{n} failed\")"
   ]
  },
  {
   "cell_type": "code",
   "execution_count": 31,
   "metadata": {},
   "outputs": [],
   "source": [
    "r=hist(init)"
   ]
  },
  {
   "cell_type": "code",
   "execution_count": 33,
   "metadata": {},
   "outputs": [
    {
     "data": {
      "text/plain": [
       "(7.898717143245934,\n",
       " array([0.00451809, 0.00663353, 0.00491025, 0.00597625, 0.00682132,\n",
       "        0.00704778, 0.00737365, 0.00858879, 0.011124  , 0.00935653,\n",
       "        0.01077603, 0.01075946, 0.00794256, 0.00841756, 0.00795913,\n",
       "        0.0081414 , 0.00771058, 0.00721348, 0.00762773, 0.00607567,\n",
       "        0.00819111, 0.00540735, 0.00673295, 0.0064623 , 0.00651754,\n",
       "        0.00507042, 0.00510909, 0.00670533, 0.00444629, 0.00690417,\n",
       "        0.00462303, 0.00487711, 0.00621375, 0.00403204, 0.00520851,\n",
       "        0.00544049, 0.00342447, 0.00520851, 0.00557857, 0.00427506,\n",
       "        0.00455675, 0.00499862, 0.00407622, 0.00444076, 0.00501519,\n",
       "        0.00339133, 0.00362883, 0.00527479, 0.00397128, 0.00382215,\n",
       "        0.00496548, 0.00371721, 0.0030544 , 0.00568351, 0.00457885,\n",
       "        0.00337476, 0.00304888, 0.00502071, 0.00428611, 0.00236399,\n",
       "        0.00413698, 0.00405413, 0.00396023, 0.00270643, 0.00418117,\n",
       "        0.00435791, 0.00319249, 0.00309307, 0.0039989 , 0.00462856,\n",
       "        0.00319249, 0.00249655, 0.00363988, 0.00460646, 0.0030544 ,\n",
       "        0.00223695, 0.00417564, 0.00376692, 0.00325877, 0.00278376,\n",
       "        0.00359017, 0.00363988, 0.00356255, 0.00228666, 0.00347418,\n",
       "        0.00362883, 0.00359017, 0.00229771, 0.00303231, 0.00347418,\n",
       "        0.00413698, 0.0025794 , 0.00260701, 0.00373378, 0.0038332 ,\n",
       "        0.0023916 , 0.00204916, 0.00408175, 0.0032422 , 0.00374482,\n",
       "        0.00197735, 0.00328638, 0.0033361 , 0.00361779, 0.0025794 ,\n",
       "        0.00246341, 0.00369511, 0.00321458, 0.00368959, 0.00249655,\n",
       "        0.00206573, 0.00359017, 0.00366197, 0.00332505, 0.00208782,\n",
       "        0.00258492, 0.00341895, 0.00366197, 0.00262358, 0.00203811,\n",
       "        0.00328086, 0.00315935, 0.00330295, 0.00244131, 0.00267329,\n",
       "        0.00326981, 0.00356808, 0.00273957, 0.00218724, 0.00297708,\n",
       "        0.0032201 , 0.00351837, 0.00246341, 0.00180613, 0.00323115,\n",
       "        0.00363988, 0.00283899, 0.00284452, 0.00221486, 0.0033361 ,\n",
       "        0.00334714, 0.003314  , 0.00184479, 0.00251312, 0.00340238,\n",
       "        0.00346313, 0.00287766, 0.00219276, 0.00286661, 0.00275614,\n",
       "        0.00380558, 0.00308202, 0.00236951, 0.00297708, 0.0032201 ,\n",
       "        0.00309307, 0.00300469, 0.00207125, 0.00294946, 0.00355151,\n",
       "        0.00308754, 0.0026512 , 0.00221486, 0.00322563, 0.00323667,\n",
       "        0.00299917, 0.00229771, 0.00246893, 0.00296603, 0.00350732,\n",
       "        0.00320906, 0.00212648, 0.00312068, 0.00294394, 0.00374482,\n",
       "        0.00260149, 0.00211544, 0.00345209, 0.00327534, 0.00332505,\n",
       "        0.00196631, 0.00290527, 0.0035736 , 0.00368959, 0.002723  ,\n",
       "        0.00191107, 0.00329743, 0.00355703, 0.00362883, 0.00331952,\n",
       "        0.00266225, 0.00323667, 0.00376139, 0.00365093, 0.00249102,\n",
       "        0.00264015, 0.00349627, 0.00350732, 0.00315935, 0.00234742,\n",
       "        0.00344104, 0.00377796, 0.00310964, 0.00252416, 0.00320353,\n",
       "        0.00373378, 0.00349075, 0.00265672, 0.00246893, 0.00424192,\n",
       "        0.00345761, 0.00294946, 0.00287213, 0.00353494, 0.00417012,\n",
       "        0.00303231, 0.00271196, 0.00408175, 0.00367854, 0.00316487,\n",
       "        0.00287213, 0.00439658, 0.00366197, 0.00318144, 0.00343552,\n",
       "        0.00439658, 0.00368959, 0.00323667, 0.00331952, 0.00453466,\n",
       "        0.00439105, 0.00323115, 0.00345761, 0.00477769, 0.00394919,\n",
       "        0.00360674, 0.00408727, 0.00452914, 0.0038332 , 0.00429716,\n",
       "        0.0043082 , 0.00421983, 0.0044739 , 0.00492682, 0.00435791,\n",
       "        0.00359017, 0.00577189, 0.00455123, 0.00514775, 0.00525822,\n",
       "        0.00426402, 0.00625794, 0.00516984, 0.00573875, 0.00458437,\n",
       "        0.00209887]))"
      ]
     },
     "execution_count": 33,
     "metadata": {},
     "output_type": "execute_result"
    }
   ],
   "source": [
    "entropy(r[0],r[1])"
   ]
  },
  {
   "cell_type": "code",
   "execution_count": null,
   "metadata": {},
   "outputs": [],
   "source": []
  }
 ],
 "metadata": {
  "kernelspec": {
   "display_name": "Python 3",
   "language": "python",
   "name": "python3"
  },
  "language_info": {
   "codemirror_mode": {
    "name": "ipython",
    "version": 3
   },
   "file_extension": ".py",
   "mimetype": "text/x-python",
   "name": "python",
   "nbconvert_exporter": "python",
   "pygments_lexer": "ipython3",
   "version": "3.7.1"
  }
 },
 "nbformat": 4,
 "nbformat_minor": 2
}
