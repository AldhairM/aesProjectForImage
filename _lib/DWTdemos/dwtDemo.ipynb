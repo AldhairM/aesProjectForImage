{
 "cells": [
  {
   "cell_type": "code",
   "execution_count": 1,
   "metadata": {},
   "outputs": [],
   "source": [
    "import numpy as np\n",
    "import pywt \n",
    "import cv2 \n",
    "import imageio\n",
    "from sys import getsizeof"
   ]
  },
  {
   "cell_type": "code",
   "execution_count": 3,
   "metadata": {},
   "outputs": [],
   "source": [
    "def separar_Coef(coeffs_from_arr):\n",
    "    a =coeffs_from_arr[0]\n",
    "    h =coeffs_from_arr[1][\"ad\"]\n",
    "    v =coeffs_from_arr[1][\"da\"]\n",
    "    d =coeffs_from_arr[1][\"dd\"]\n",
    "    return a, h, v, d"
   ]
  },
  {
   "cell_type": "code",
   "execution_count": 4,
   "metadata": {},
   "outputs": [],
   "source": [
    "def clear_Txt():\n",
    "    names = [\"a\",\"h\",\"v\",\"d\"]\n",
    "    for n in names:\n",
    "        with open(\"{}.txt\".format(n),\"r\") as start, open(\"{}d.txt\".format(n),\"w\") as out:\n",
    "            mutable = start.read()\n",
    "            size=getsizeof(mutable)\n",
    "            for char in reversed(range(size)):\n",
    "                try:\n",
    "                    if mutable[char] == \"\\n\":\n",
    "                        out.write(mutable[:char])\n",
    "                        break\n",
    "                except IndexError:\n",
    "                    pass"
   ]
  },
  {
   "cell_type": "code",
   "execution_count": 5,
   "metadata": {},
   "outputs": [],
   "source": [
    "def Save_txt(coeffs_from_arr):\n",
    "    a, h, v, d = separar_Coef(coeffs_from_arr)\n",
    "    array = [a,h,v,d]\n",
    "    b = [\"a\",\"h\", \"v\", \"d\"]\n",
    "    for n in range(len(array)):\n",
    "        np.savetxt('{}.txt'.format(b[n]), array[n])"
   ]
  },
  {
   "cell_type": "code",
   "execution_count": 6,
   "metadata": {},
   "outputs": [],
   "source": [
    "def load_txt():\n",
    "    a = np.genfromtxt('ad.txt')\n",
    "    h = np.genfromtxt('hd.txt')\n",
    "    v = np.genfromtxt('vd.txt')\n",
    "    d = np.genfromtxt('dd.txt')\n",
    "    return a, h, v, d\n"
   ]
  },
  {
   "cell_type": "code",
   "execution_count": 7,
   "metadata": {},
   "outputs": [],
   "source": [
    "def unir_Coef():\n",
    "    a,h,v,d = load_txt()\n",
    "    s = dict({\"ad\": h, \"da\": v, \"dd\": d}) \n",
    "    coeffs_from_arr = [a, s]\n",
    "    return coeffs_from_arr"
   ]
  },
  {
   "cell_type": "code",
   "execution_count": 2,
   "metadata": {},
   "outputs": [],
   "source": [
    "def ProcesoDWT(name):\n",
    "    coeffs = pywt.wavedecn(name, wavelet='db2',level = 1)\n",
    "    arr, coeff_slices, coeff_shapes = pywt.ravel_coeffs(coeffs)\n",
    "    coeffs_from_arr = pywt.unravel_coeffs(arr, coeff_slices, coeff_shapes, output_format='wavedecn')\n",
    "    return coeffs_from_arr"
   ]
  },
  {
   "cell_type": "code",
   "execution_count": 8,
   "metadata": {},
   "outputs": [],
   "source": [
    "def ReconstructDWT():\n",
    "    clear_Txt()\n",
    "    coeffs_from_arr = unir_Coef()\n",
    "    name_recon = pywt.waverecn(coeffs_from_arr, wavelet='db2')\n",
    "    return name_recon"
   ]
  },
  {
   "cell_type": "code",
   "execution_count": 10,
   "metadata": {},
   "outputs": [
    {
     "name": "stderr",
     "output_type": "stream",
     "text": [
      "WARNING:root:Lossy conversion from float64 to uint8. Range [1.9999999999999967, 255.0000000000001]. Convert image to uint8 prior to saving to suppress this warning.\n"
     ]
    },
    {
     "name": "stdout",
     "output_type": "stream",
     "text": [
      "lena procesada\n"
     ]
    }
   ],
   "source": [
    "if __name__ == \"__main__\":\n",
    "    data = \"lena\"\n",
    "    name = \"{}.png\".format(data)\n",
    "    name = cv2.imread(name, cv2.IMREAD_GRAYSCALE)\n",
    "    coeffs_from_arr = ProcesoDWT(name)\n",
    "    Save_txt(coeffs_from_arr)\n",
    "    name_recon = ReconstructDWT()\n",
    "    imageio.imwrite('{}_des.png'.format(data), name_recon)\n",
    "    data = \"{} procesada\".format(data)\n",
    "    print (data)"
   ]
  },
  {
   "cell_type": "code",
   "execution_count": null,
   "metadata": {},
   "outputs": [],
   "source": []
  }
 ],
 "metadata": {
  "kernelspec": {
   "display_name": "Python 3",
   "language": "python",
   "name": "python3"
  },
  "language_info": {
   "codemirror_mode": {
    "name": "ipython",
    "version": 3
   },
   "file_extension": ".py",
   "mimetype": "text/x-python",
   "name": "python",
   "nbconvert_exporter": "python",
   "pygments_lexer": "ipython3",
   "version": "3.7.0"
  }
 },
 "nbformat": 4,
 "nbformat_minor": 2
}
