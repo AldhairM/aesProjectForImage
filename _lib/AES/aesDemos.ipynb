{
 "cells": [
  {
   "cell_type": "markdown",
   "metadata": {},
   "source": [
    "# Rijdael\n",
    "\n",
    "Para el desarrollo de este algoritmo de encriptacion tipo Rijndael se tomo como ejemplo concepots de la documentacion Rijndael y algunos metodos de los siguientes ejemplos de aplicacion. Se decidio omitir el uso de los metodos de vector inicial para rea\n",
    "\n",
    "Links:\n",
    "    https://github.com/bozhu/AES-Python/blob/master/aes.py\n",
    "    https://github.com/ricmoo/pyaes\n",
    "        https://github.com/meyt/py3rijndael/blob/master/py3rijndael/constants.py\n",
    "    https://gist.github.com/jeetsukumaran/1291836\n",
    "    \n",
    "# Se recomienda reiniciar el kernel y ejecutar las celdas subsecuentes \n",
    "\n",
    "Puede insertar su texto a cifrar en la siguiente celda\n"
   ]
  },
  {
   "cell_type": "code",
   "execution_count": 3,
   "metadata": {},
   "outputs": [],
   "source": [
    "from Crypto.Cipher import AES\n",
    "from Crypto import Random\n",
    "import binascii\n",
    "import time\n",
    "import os\n",
    "\n",
    "from sys import getsizeof\n",
    "import base64"
   ]
  },
  {
   "cell_type": "code",
   "execution_count": 2,
   "metadata": {},
   "outputs": [],
   "source": [
    "def saturar(inp, blocksize=128):\n",
    "    tam_sat = blocksize - (len(inp) % blocksize)  \n",
    "    relleno = b'a'*tam_sat\n",
    "    return inp + relleno"
   ]
  },
  {
   "cell_type": "code",
   "execution_count": 3,
   "metadata": {},
   "outputs": [],
   "source": [
    "def remove_space_padding(strl, blocksize=128):\n",
    "    tam_sat = 0 \n",
    "    for char in strl[::-1]: \n",
    "        if char == 'a':\n",
    "            tam_sat += 1\n",
    "        else:\n",
    "            break\n",
    "\n",
    "    stlr = strl[:-tam_sat]\n",
    "   \n",
    "    return strl"
   ]
  },
  {
   "cell_type": "code",
   "execution_count": 4,
   "metadata": {},
   "outputs": [],
   "source": [
    "def encrypt(plaintext, key):\n",
    "    des = AES.new(key, AES.MODE_ECB)\n",
    "    #des = AES.new()\n",
    "    return des.encrypt(plaintext)"
   ]
  },
  {
   "cell_type": "code",
   "execution_count": 5,
   "metadata": {},
   "outputs": [],
   "source": [
    "def decrypt(ciphertext, key):\n",
    "    des = AES.new(key, AES.MODE_ECB)\n",
    "    return des.decrypt(ciphertext).decode('UTF-8')"
   ]
  },
  {
   "cell_type": "code",
   "execution_count": 27,
   "metadata": {},
   "outputs": [],
   "source": [
    "f = open(\"a_C.bin\", \"rb\")"
   ]
  },
  {
   "cell_type": "code",
   "execution_count": 6,
   "metadata": {},
   "outputs": [
    {
     "name": "stdout",
     "output_type": "stream",
     "text": [
      "Key: b'\\x92\\xa3\\x0cRV\\x9b\\xacN\\xbaiO\\xf3\\x95\\xcd@0'\n",
      "Tamaño Texto Saturado: 2135680\n"
     ]
    }
   ],
   "source": [
    "if __name__ == \"__main__\":\n",
    "\n",
    "    #key is 128 bits = 16 bytes\n",
    "    key = Random.new().read(16)\n",
    "    print(\"Key: {}\".format(key))\n",
    "    #plaintext = str(f.read())\n",
    "    #print(\"Tamaño Texto: {}\".format(len(plaintext)))\n",
    "    plaintext=bytes(2135577)\n",
    "    plaintext = saturar(plaintext)\n",
    "    print(\"Tamaño Texto Saturado: {}\".format(len(plaintext)))\n",
    "    ciphertext = encrypt(plaintext,key)\n",
    "    \n",
    "    decrypted = decrypt(ciphertext, key)\n",
    "    "
   ]
  },
  {
   "cell_type": "code",
   "execution_count": 22,
   "metadata": {},
   "outputs": [],
   "source": [
    "f = open('d_ch.bin', \"rb\")"
   ]
  },
  {
   "cell_type": "code",
   "execution_count": 23,
   "metadata": {},
   "outputs": [
    {
     "data": {
      "text/plain": [
       "2195117"
      ]
     },
     "execution_count": 23,
     "metadata": {},
     "output_type": "execute_result"
    }
   ],
   "source": [
    "mutable = bytearray(f.read())\n",
    "#mutable = f.read()\n",
    "getsizeof(mutable)"
   ]
  },
  {
   "cell_type": "code",
   "execution_count": 24,
   "metadata": {},
   "outputs": [
    {
     "data": {
      "text/plain": [
       "2926813"
      ]
     },
     "execution_count": 24,
     "metadata": {},
     "output_type": "execute_result"
    }
   ],
   "source": [
    "b53=base64.b64encode(mutable)\n",
    "getsizeof(b53)"
   ]
  },
  {
   "cell_type": "code",
   "execution_count": 25,
   "metadata": {},
   "outputs": [
    {
     "data": {
      "text/plain": [
       "2926881"
      ]
     },
     "execution_count": 25,
     "metadata": {},
     "output_type": "execute_result"
    }
   ],
   "source": [
    "appended= saturar(b53)\n",
    "getsizeof(appended)"
   ]
  },
  {
   "cell_type": "code",
   "execution_count": null,
   "metadata": {},
   "outputs": [],
   "source": [
    "ciphertext = encrypt(appended,key)"
   ]
  },
  {
   "cell_type": "code",
   "execution_count": null,
   "metadata": {},
   "outputs": [],
   "source": [
    "decrypted = decrypt(ciphertext,key)"
   ]
  },
  {
   "cell_type": "code",
   "execution_count": 20,
   "metadata": {},
   "outputs": [
    {
     "data": {
      "text/plain": [
       "2135626"
      ]
     },
     "execution_count": 20,
     "metadata": {},
     "output_type": "execute_result"
    }
   ],
   "source": [
    "desatur=remove_space_padding(decrypted)\n",
    "getsizeof(desatur)"
   ]
  },
  {
   "cell_type": "code",
   "execution_count": 33,
   "metadata": {},
   "outputs": [
    {
     "data": {
      "text/plain": [
       "2135577"
      ]
     },
     "execution_count": 33,
     "metadata": {},
     "output_type": "execute_result"
    }
   ],
   "source": [
    "b55=base64.b64decode(desatur)\n",
    "getsizeof(b55)"
   ]
  },
  {
   "cell_type": "markdown",
   "metadata": {},
   "source": [
    "### More info about comparations\n",
    "\n",
    "https://stackoverflow.com/questions/1220751/how-to-choose-an-aes-encryption-mode-cbc-ecb-ctr-ocb-cfb"
   ]
  },
  {
   "cell_type": "markdown",
   "metadata": {},
   "source": [
    "### OCB mode\n",
    "\n",
    "https://pycryptodome.readthedocs.io/en/latest/src/cipher/modern.html#ocb-mode"
   ]
  },
  {
   "cell_type": "code",
   "execution_count": 4,
   "metadata": {},
   "outputs": [],
   "source": [
    "plaintext=bytearray(128)\n",
    "key = Random.new().read(16)\n",
    "cipher = AES.new(key, AES.MODE_OCB)\n",
    "ciphertext, tag= cipher.encrypt_and_digest(plaintext)"
   ]
  },
  {
   "cell_type": "code",
   "execution_count": 5,
   "metadata": {},
   "outputs": [],
   "source": [
    "noncr=cipher.nonce"
   ]
  },
  {
   "cell_type": "code",
   "execution_count": 6,
   "metadata": {},
   "outputs": [],
   "source": [
    "des = AES.new(key, AES.MODE_OCB, nonce=noncr)\n",
    "plaintext = des.decrypt(ciphertext)"
   ]
  },
  {
   "cell_type": "markdown",
   "metadata": {},
   "source": [
    "### OFB mode"
   ]
  },
  {
   "cell_type": "code",
   "execution_count": 15,
   "metadata": {},
   "outputs": [],
   "source": [
    "plaintext=bytearray(128)\n",
    "key = Random.new().read(16)\n",
    "cipher = AES.new(key, AES.MODE_OFB)\n",
    "ciphertext= cipher.encrypt(plaintext)"
   ]
  },
  {
   "cell_type": "code",
   "execution_count": 16,
   "metadata": {},
   "outputs": [],
   "source": [
    "iv = cipher.iv"
   ]
  },
  {
   "cell_type": "code",
   "execution_count": 17,
   "metadata": {},
   "outputs": [],
   "source": [
    "des = AES.new(key, AES.MODE_OFB, iv=iv)\n",
    "plaintext = des.decrypt(ciphertext)"
   ]
  },
  {
   "cell_type": "markdown",
   "metadata": {},
   "source": [
    "###  CTR mode\n",
    "\n",
    "https://pycryptodome.readthedocs.io/en/latest/src/cipher/classic.html#ctr-mode"
   ]
  },
  {
   "cell_type": "code",
   "execution_count": 21,
   "metadata": {},
   "outputs": [],
   "source": [
    "plaintext=bytearray(128)\n",
    "key = Random.new().read(16)\n",
    "cipher = AES.new(key, AES.MODE_CTR)\n",
    "ciphertext= cipher.encrypt(plaintext)"
   ]
  },
  {
   "cell_type": "code",
   "execution_count": 22,
   "metadata": {},
   "outputs": [],
   "source": [
    "noncr=cipher.nonce"
   ]
  },
  {
   "cell_type": "code",
   "execution_count": 23,
   "metadata": {},
   "outputs": [],
   "source": [
    "des = AES.new(key, AES.MODE_CTR, nonce=noncr)\n",
    "plaintext = des.decrypt(ciphertext)"
   ]
  },
  {
   "cell_type": "markdown",
   "metadata": {},
   "source": [
    "### GCM mode\n",
    "\n",
    "https://pycryptodome.readthedocs.io/en/latest/src/cipher/modern.html#gcm-mode"
   ]
  },
  {
   "cell_type": "code",
   "execution_count": 25,
   "metadata": {},
   "outputs": [],
   "source": [
    "plaintext=bytearray(128)\n",
    "key = Random.new().read(16)\n",
    "cipher = AES.new(key, AES.MODE_GCM)\n",
    "ciphertext, tag= cipher.encrypt_and_digest(plaintext)"
   ]
  },
  {
   "cell_type": "code",
   "execution_count": 26,
   "metadata": {},
   "outputs": [],
   "source": [
    "noncr=cipher.nonce"
   ]
  },
  {
   "cell_type": "code",
   "execution_count": 27,
   "metadata": {},
   "outputs": [],
   "source": [
    "des = AES.new(key, AES.MODE_GCM, nonce=noncr)\n",
    "plaintext = des.decrypt(ciphertext)"
   ]
  },
  {
   "cell_type": "code",
   "execution_count": null,
   "metadata": {},
   "outputs": [],
   "source": []
  }
 ],
 "metadata": {
  "kernelspec": {
   "display_name": "Python 3",
   "language": "python",
   "name": "python3"
  },
  "language_info": {
   "codemirror_mode": {
    "name": "ipython",
    "version": 3
   },
   "file_extension": ".py",
   "mimetype": "text/x-python",
   "name": "python",
   "nbconvert_exporter": "python",
   "pygments_lexer": "ipython3",
   "version": "3.7.1"
  }
 },
 "nbformat": 4,
 "nbformat_minor": 2
}
