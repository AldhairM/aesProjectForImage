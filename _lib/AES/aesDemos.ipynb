{
 "cells": [
  {
   "cell_type": "markdown",
   "metadata": {},
   "source": [
    "# Rijdael\n",
    "\n",
    "Para el desarrollo de este algoritmo de encriptacion tipo Rijndael se tomo como ejemplo concepots de la documentacion Rijndael y algunos metodos de los siguientes ejemplos de aplicacion. Se decidio omitir el uso de los metodos de vector inicial para rea\n",
    "\n",
    "Links:\n",
    "    https://github.com/bozhu/AES-Python/blob/master/aes.py\n",
    "    https://github.com/ricmoo/pyaes\n",
    "        https://github.com/meyt/py3rijndael/blob/master/py3rijndael/constants.py\n",
    "    https://gist.github.com/jeetsukumaran/1291836\n",
    "    \n",
    "# Se recomienda reiniciar el kernel y ejecutar las celdas subsecuentes \n",
    "\n",
    "Puede insertar su texto a cifrar en la siguiente celda\n"
   ]
  },
  {
   "cell_type": "code",
   "execution_count": 1,
   "metadata": {},
   "outputs": [],
   "source": [
    "from Crypto.Cipher import AES\n",
    "from Crypto import Random\n",
    "import binascii\n",
    "import base64\n",
    "\n",
    "from sys import getsizeof"
   ]
  },
  {
   "cell_type": "code",
   "execution_count": 2,
   "metadata": {},
   "outputs": [],
   "source": [
    "def saturar(inp, blocksize=128):\n",
    "    \"\"\"\"\n",
    "    Entrada:\n",
    "    \n",
    "    Funcion: Agregar caracteres binarios para ser divisible entre el blocksize\n",
    "    \n",
    "    Salida: \n",
    "    \"\"\"\n",
    "    tam_sat = blocksize - (len(inp) % blocksize)  \n",
    "    relleno = b'a'*tam_sat\n",
    "    return inp + relleno"
   ]
  },
  {
   "cell_type": "code",
   "execution_count": 3,
   "metadata": {},
   "outputs": [],
   "source": [
    "def remove_space_padding(strl, blocksize=128):\n",
    "    \"\"\"\"\n",
    "    Entrada:\n",
    "    \n",
    "    Funcion: Eliminar caracteres binarios para ser divisible entre el blocksize\n",
    "    \n",
    "    Salida: \n",
    "    \"\"\"    \n",
    "    tam_sat = 0 \n",
    "    for char in strl[::-1]: \n",
    "        if char == 'a':\n",
    "            tam_sat += 1\n",
    "        else:\n",
    "            break\n",
    "\n",
    "    stlr = strl[:-tam_sat]\n",
    "   \n",
    "    return strl"
   ]
  },
  {
   "cell_type": "code",
   "execution_count": 4,
   "metadata": {},
   "outputs": [],
   "source": [
    "def encrypt(plaintext, key, mode=\"ECB\"):\n",
    "    \"\"\"\"\n",
    "    Entrada:\n",
    "            \n",
    "            plaintext: \n",
    "                        String o Byte\n",
    "            key: \n",
    "                        \n",
    "            mode: \n",
    "                        Modos de operacion admisibles:\n",
    "    \n",
    "    Funcion: Agregar caracteres binarios para ser divisible entre el blocksize\n",
    "    \n",
    "    Salida: \n",
    "    \"\"\"\n",
    "    if mode == \"OCB\" :\n",
    "        des = AES.new(key, AES.MODE_OCB)\n",
    "        cipher = des.encrypt(plaintext)\n",
    "        non = des.nonce\n",
    "        return  cipher, non\n",
    "    if mode == \"CTR\" :\n",
    "        des = AES.new(key, AES.MODE_CTR)\n",
    "        cipher = des.encrypt(plaintext)\n",
    "        non = des.nonce\n",
    "        return  cipher, non\n",
    "    if mode == \"OFB\" :\n",
    "        des = AES.new(key, AES.MODE_OFB)\n",
    "        cipher = des.encrypt(plaintext)\n",
    "        iv = des.iv\n",
    "        return  cipher, iv\n",
    "    if mode == \"GCM\" :\n",
    "        des = AES.new(key, AES.MODE_GCM)\n",
    "        cipher = des.encrypt(plaintext)\n",
    "        non = des.nonce\n",
    "        return  cipher, non\n",
    "    else:\n",
    "        des = AES.new(key, AES.MODE_ECB)\n",
    "        return des.encrypt(plaintext)"
   ]
  },
  {
   "cell_type": "code",
   "execution_count": 5,
   "metadata": {},
   "outputs": [],
   "source": [
    "def decrypt(ciphertext, key, mode=\"ECB\", nonce=None):\n",
    "    \"\"\"\"\n",
    "    Entrada:\n",
    "    \n",
    "    Funcion: Agregar caracteres binarios para ser divisible entre el blocksize\n",
    "    \n",
    "    Salida: \n",
    "    \"\"\"\n",
    "    if mode == \"OCB\":\n",
    "        des = AES.new(key, AES.MODE_OCB, nonce=nonce)\n",
    "        return des.decrypt(ciphertext)\n",
    "    if mode == \"CTR\":\n",
    "        des = AES.new(key, AES.MODE_CTR, nonce=nonce)\n",
    "        return des.decrypt(ciphertext)\n",
    "    if mode == \"OFB\":\n",
    "        des = AES.new(key, AES.MODE_OFB, iv=nonce)\n",
    "        return des.decrypt(ciphertext)\n",
    "    if mode == \"GCM\":\n",
    "        des = AES.new(key, AES.MODE_GCM, nonce=nonce)\n",
    "        return des.decrypt(ciphertext)\n",
    "    else:\n",
    "        des = AES.new(key, AES.MODE_ECB)\n",
    "        return des.decrypt(ciphertext).decode('UTF-8')"
   ]
  },
  {
   "cell_type": "code",
   "execution_count": 6,
   "metadata": {},
   "outputs": [
    {
     "name": "stdout",
     "output_type": "stream",
     "text": [
      "Key: b'S\\x8b\\x13_\\xa3p\\x80\\xc6!\\xb4\\xf4\\xb3\\xfe\\xb8\\x04\\xa3'\n",
      "Tamaño Texto: 2135577\n",
      "Tamaño Texto Saturado: 2847488\n",
      "Tamaño Texto Encriptado: 2847488\n",
      "Tamaño Texto Desencriptado: 2135616\n"
     ]
    }
   ],
   "source": [
    "if __name__ == \"__main__\":\n",
    "\n",
    "    \n",
    "    key = Random.new().read(16)         #key is 128 bits = 16 bytes\n",
    "    print(\"Key: {}\".format(key))\n",
    "\n",
    "    plaintext=bytearray(2135577)\n",
    "    print(\"Tamaño Texto: {}\".format(len(plaintext)))\n",
    "\n",
    "    plaintextEnc =base64.b64encode(plaintext)                        #\n",
    "    plaintextSat = saturar(plaintextEnc)\n",
    "    print(\"Tamaño Texto Saturado: {}\".format(len(plaintextSat)))\n",
    "    \n",
    "    ciphertext = encrypt(plaintextSat,key)\n",
    "    #ciphertext = encrypt(plaintextSat, key, mode = \"\")\n",
    "    print(\"Tamaño Texto Encriptado: {}\".format(len(ciphertext))) \n",
    "    \n",
    "    \n",
    "    decrypted = decrypt(ciphertext, key)\n",
    "    #decrypted = decrypt(ciphertext, key, , mode=\"\", nonce )\n",
    "    plaintextDec =base64.b64decode(decrypted)\n",
    "    print(\"Tamaño Texto Desencriptado: {}\".format(len(plaintextDec))) "
   ]
  },
  {
   "cell_type": "code",
   "execution_count": 8,
   "metadata": {},
   "outputs": [
    {
     "name": "stdout",
     "output_type": "stream",
     "text": [
      "b'\\x00\\x00\\x00\\x00\\x00\\x00\\x00i\\xa6\\x9ai\\xa6\\x9ai\\xa6\\x9ai\\xa6\\x9ai\\xa6\\x9ai\\xa6\\x9ai\\xa6\\x9ai\\xa6\\x9ai\\xa6\\x9ai\\xa6\\x9ai\\xa6\\x9ai\\xa6\\x9ai\\xa6\\x9a'\n"
     ]
    }
   ],
   "source": [
    "print(plaintextDec[2135570:])"
   ]
  },
  {
   "cell_type": "markdown",
   "metadata": {},
   "source": [
    "### More info about comparations\n",
    "\n",
    "https://stackoverflow.com/questions/1220751/how-to-choose-an-aes-encryption-mode-cbc-ecb-ctr-ocb-cfb"
   ]
  },
  {
   "cell_type": "markdown",
   "metadata": {},
   "source": [
    "### OCB mode\n",
    "\n",
    "https://pycryptodome.readthedocs.io/en/latest/src/cipher/modern.html#ocb-mode"
   ]
  },
  {
   "cell_type": "code",
   "execution_count": 4,
   "metadata": {},
   "outputs": [],
   "source": [
    "plaintext=bytearray(128)\n",
    "key = Random.new().read(16)\n",
    "cipher = AES.new(key, AES.MODE_OCB)\n",
    "ciphertext, tag= cipher.encrypt_and_digest(plaintext)"
   ]
  },
  {
   "cell_type": "code",
   "execution_count": 5,
   "metadata": {},
   "outputs": [],
   "source": [
    "noncr=cipher.nonce"
   ]
  },
  {
   "cell_type": "code",
   "execution_count": 6,
   "metadata": {},
   "outputs": [],
   "source": [
    "des = AES.new(key, AES.MODE_OCB, nonce=noncr)\n",
    "plaintext = des.decrypt(ciphertext)"
   ]
  },
  {
   "cell_type": "markdown",
   "metadata": {},
   "source": [
    "### OFB mode"
   ]
  },
  {
   "cell_type": "code",
   "execution_count": 15,
   "metadata": {},
   "outputs": [],
   "source": [
    "plaintext=bytearray(128)\n",
    "key = Random.new().read(16)\n",
    "cipher = AES.new(key, AES.MODE_OFB)\n",
    "ciphertext= cipher.encrypt(plaintext)"
   ]
  },
  {
   "cell_type": "code",
   "execution_count": 16,
   "metadata": {},
   "outputs": [],
   "source": [
    "iv = cipher.iv"
   ]
  },
  {
   "cell_type": "code",
   "execution_count": 17,
   "metadata": {},
   "outputs": [],
   "source": [
    "des = AES.new(key, AES.MODE_OFB, iv=iv)\n",
    "plaintext = des.decrypt(ciphertext)"
   ]
  },
  {
   "cell_type": "markdown",
   "metadata": {},
   "source": [
    "###  CTR mode\n",
    "\n",
    "https://pycryptodome.readthedocs.io/en/latest/src/cipher/classic.html#ctr-mode"
   ]
  },
  {
   "cell_type": "code",
   "execution_count": 21,
   "metadata": {},
   "outputs": [],
   "source": [
    "plaintext=bytearray(128)\n",
    "key = Random.new().read(16)\n",
    "cipher = AES.new(key, AES.MODE_CTR)\n",
    "ciphertext= cipher.encrypt(plaintext)"
   ]
  },
  {
   "cell_type": "code",
   "execution_count": 22,
   "metadata": {},
   "outputs": [],
   "source": [
    "noncr=cipher.nonce"
   ]
  },
  {
   "cell_type": "code",
   "execution_count": 23,
   "metadata": {},
   "outputs": [],
   "source": [
    "des = AES.new(key, AES.MODE_CTR, nonce=noncr)\n",
    "plaintext = des.decrypt(ciphertext)"
   ]
  },
  {
   "cell_type": "markdown",
   "metadata": {},
   "source": [
    "### GCM mode\n",
    "\n",
    "https://pycryptodome.readthedocs.io/en/latest/src/cipher/modern.html#gcm-mode"
   ]
  },
  {
   "cell_type": "code",
   "execution_count": 25,
   "metadata": {},
   "outputs": [],
   "source": [
    "plaintext=bytearray(128)\n",
    "key = Random.new().read(16)\n",
    "cipher = AES.new(key, AES.MODE_GCM)\n",
    "ciphertext, tag= cipher.encrypt_and_digest(plaintext)"
   ]
  },
  {
   "cell_type": "code",
   "execution_count": 26,
   "metadata": {},
   "outputs": [],
   "source": [
    "noncr=cipher.nonce"
   ]
  },
  {
   "cell_type": "code",
   "execution_count": 27,
   "metadata": {},
   "outputs": [],
   "source": [
    "des = AES.new(key, AES.MODE_GCM, nonce=noncr)\n",
    "plaintext = des.decrypt(ciphertext)"
   ]
  },
  {
   "cell_type": "code",
   "execution_count": null,
   "metadata": {},
   "outputs": [],
   "source": []
  }
 ],
 "metadata": {
  "kernelspec": {
   "display_name": "Python 3",
   "language": "python",
   "name": "python3"
  },
  "language_info": {
   "codemirror_mode": {
    "name": "ipython",
    "version": 3
   },
   "file_extension": ".py",
   "mimetype": "text/x-python",
   "name": "python",
   "nbconvert_exporter": "python",
   "pygments_lexer": "ipython3",
   "version": "3.7.0"
  }
 },
 "nbformat": 4,
 "nbformat_minor": 2
}
