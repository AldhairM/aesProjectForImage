{
 "cells": [
  {
   "cell_type": "code",
   "execution_count": 18,
   "metadata": {},
   "outputs": [],
   "source": [
    "img=[[\"barbara\"],[\"color\"],[\"eye\"],[\"lena\"],[\"lenaV2\"],[\"logo\"],[\"Mandrill\"],[\"peppers\"],[\"pinguin\"],[\"scale\"]]"
   ]
  },
  {
   "cell_type": "markdown",
   "metadata": {},
   "source": [
    "# PSNR y MSE\n",
    "https://www.geeksforgeeks.org/python-peak-signal-to-noise-ratio-psnr/"
   ]
  },
  {
   "cell_type": "code",
   "execution_count": 2,
   "metadata": {},
   "outputs": [],
   "source": [
    "from math import log10, sqrt \n",
    "import cv2\n",
    "import numpy as np \n",
    "import skimage    \n",
    "import imageio"
   ]
  },
  {
   "cell_type": "code",
   "execution_count": 3,
   "metadata": {},
   "outputs": [],
   "source": [
    "def PSNR(original, compressed): \n",
    "    mse = np.mean((original - compressed) ** 2) \n",
    "    if(mse == 0):  # MSE is zero means no noise is present in the signal . \n",
    "                  # Therefore PSNR have no importance. \n",
    "        return 100\n",
    "    max_pixel = 255.0\n",
    "    psnr = 20 * log10(max_pixel / sqrt(mse)) \n",
    "    return psnr, mse"
   ]
  },
  {
   "cell_type": "code",
   "execution_count": 4,
   "metadata": {},
   "outputs": [],
   "source": [
    "def calculate_psnr(img1, img2, max_value=255):\n",
    "    \"\"\"\"Calculating peak signal-to-noise ratio (PSNR) between two images.\"\"\"\n",
    "    mse = np.mean((np.array(img1, dtype=np.float32) - np.array(img2, dtype=np.float32)) ** 2)\n",
    "    if mse == 0:\n",
    "        return 100\n",
    "    psnr = 20 * np.log10(max_value / (np.sqrt(mse)))\n",
    "    return psnr, mse"
   ]
  },
  {
   "cell_type": "code",
   "execution_count": 35,
   "metadata": {},
   "outputs": [
    {
     "name": "stdout",
     "output_type": "stream",
     "text": [
      "(213, 850)\n",
      "(213, 850)\n"
     ]
    }
   ],
   "source": [
    "init = cv2.imread(f\"Analisis/Imagenes/{img[9][0]}.png\", cv2.IMREAD_GRAYSCALE)\n",
    "print(init.shape)\n",
    "out = cv2.imread(f\"Analisis/Imagenes/{img[9][0]}_r.png\", cv2.IMREAD_GRAYSCALE)\n",
    "print(out.shape)"
   ]
  },
  {
   "cell_type": "code",
   "execution_count": 36,
   "metadata": {},
   "outputs": [
    {
     "data": {
      "text/plain": [
       "100"
      ]
     },
     "execution_count": 36,
     "metadata": {},
     "output_type": "execute_result"
    }
   ],
   "source": [
    "calculate_psnr(init,out)"
   ]
  },
  {
   "cell_type": "code",
   "execution_count": 37,
   "metadata": {},
   "outputs": [
    {
     "data": {
      "text/plain": [
       "100"
      ]
     },
     "execution_count": 37,
     "metadata": {},
     "output_type": "execute_result"
    }
   ],
   "source": [
    "PSNR(init, out) "
   ]
  },
  {
   "cell_type": "code",
   "execution_count": 16,
   "metadata": {},
   "outputs": [
    {
     "name": "stdout",
     "output_type": "stream",
     "text": [
      "barbara\n",
      "(33.2831361138952, 30.53281)\n",
      "(33.28313582673327, 30.53281021118164)\n",
      "************\n",
      "color\n",
      "(12.437298196451671, 3709.8005)\n",
      "(27.133997197586602, 125.8)\n",
      "************\n",
      "eye\n",
      "100\n",
      "100\n",
      "************\n",
      "lena\n",
      "(22.1527957306322, 396.09628)\n",
      "(28.152504202646767, 99.50157165527344)\n",
      "************\n",
      "lenaV2\n",
      "(43.848251575851336, 2.6807432)\n",
      "(43.84825139320923, 2.6807432525951556)\n",
      "************\n",
      "logo\n",
      "100\n",
      "100\n",
      "************\n",
      "Mandrill\n",
      "(29.314292659846508, 76.146706)\n",
      "(29.314293071563682, 76.14669418334961)\n",
      "************\n",
      "peppers\n",
      "(23.94449627363941, 262.1988)\n",
      "(28.011104567722725, 102.79450607299805)\n",
      "************\n",
      "pinguin\n",
      "100\n",
      "100\n",
      "************\n",
      "scale\n",
      "100\n",
      "100\n",
      "************\n"
     ]
    }
   ],
   "source": [
    "for n in range(len(img)):\n",
    "    init = cv2.imread(f\"Analisis/Imagenes/{img[n][0]}.png\", cv2.IMREAD_GRAYSCALE)\n",
    "    out = cv2.imread(f\"Analisis/Imagenes/{img[n][0]}_r.png\", cv2.IMREAD_GRAYSCALE)\n",
    "    try:\n",
    "        f=calculate_psnr(init,out)\n",
    "        s=PSNR(init,out)\n",
    "        print(img[n][0])\n",
    "        print(f)\n",
    "        print(s)\n",
    "        print(\"*\"*12)\n",
    "    except:\n",
    "        print(f\"{img[n][0]} failed\")"
   ]
  },
  {
   "cell_type": "markdown",
   "metadata": {},
   "source": [
    "# NPCR y UACI"
   ]
  },
  {
   "cell_type": "code",
   "execution_count": 5,
   "metadata": {},
   "outputs": [],
   "source": [
    "def npcr(inpt1,inpt2):\n",
    "    Rows1=len(inpt1)\n",
    "    Cols1=len(inpt1[0])\n",
    "    Rows2=len(inpt2)\n",
    "    Cols2=len(inpt2[0])\n",
    "    if Rows1 == Rows2 and Cols1 == Cols2:\n",
    "        # Calculo del NPCR\n",
    "        D1=np.zeros(Rows1*Cols1).astype(float)\n",
    "        D2=np.reshape(D1, (Rows1, Cols1))\n",
    "        counter=0\n",
    "        for row in range(Rows1):\n",
    "            for col in range(Cols1):\n",
    "                if inpt1.all == inpt2.all:\n",
    "                    D2[row][col]=0\n",
    "                else:\n",
    "                    D2[row][col]=1\n",
    "                    counter=counter+1\n",
    "        npcr=float(100*counter)/float(Rows1*Cols1)\n",
    "        return npcr\n",
    "    else:\n",
    "        n=\"Las dimensiones de las entradas a la funcion npcr no concuerdan\"\n",
    "        return n"
   ]
  },
  {
   "cell_type": "code",
   "execution_count": 59,
   "metadata": {},
   "outputs": [],
   "source": [
    "init = cv2.imread(f\"Analisis/Imagenes/{img[1][0]}.png\")\n",
    "out = cv2.imread(f\"Analisis/Imagenes/{img[1][0]}_r.png\")"
   ]
  },
  {
   "cell_type": "code",
   "execution_count": 60,
   "metadata": {},
   "outputs": [
    {
     "data": {
      "text/plain": [
       "100.0"
      ]
     },
     "execution_count": 60,
     "metadata": {},
     "output_type": "execute_result"
    }
   ],
   "source": [
    "npcr(init,out)"
   ]
  },
  {
   "cell_type": "code",
   "execution_count": 65,
   "metadata": {},
   "outputs": [
    {
     "name": "stdout",
     "output_type": "stream",
     "text": [
      "barbara\n",
      "100.0\n",
      "color\n",
      "100.0\n",
      "eye\n",
      "100.0\n",
      "lena\n",
      "100.0\n",
      "lenaV2\n",
      "100.0\n",
      "logo\n",
      "100.0\n",
      "Mandrill\n",
      "100.0\n",
      "peppers\n",
      "100.0\n",
      "pinguin\n",
      "100.0\n",
      "scale\n",
      "100.0\n"
     ]
    }
   ],
   "source": [
    "for n in range(len(img)):\n",
    "    try:\n",
    "        init = imageio.imread(f\"Analisis/Imagenes/{img[n][0]}.png\")\n",
    "        out = imageio.imread(f\"Analisis/Imagenes/{img[n][0]}_r.png\")\n",
    "        print(img[n][0])\n",
    "        print(npcr(init,out))\n",
    "    except:\n",
    "        print(f\"{n} fail\")"
   ]
  },
  {
   "cell_type": "markdown",
   "metadata": {},
   "source": [
    "# UACI"
   ]
  },
  {
   "cell_type": "code",
   "execution_count": 6,
   "metadata": {},
   "outputs": [],
   "source": [
    "def uaci(image1,image2): \n",
    "    pixel1=image1\n",
    "    pixel2=image2\n",
    "    sizeImage=image1.shape\n",
    "    value=0.0\n",
    "    for y in range(0,sizeImage[1]):\n",
    "        for x in range(0,sizeImage[0]):\n",
    "            value=(abs(pixel1[x,y][0]-pixel2[x,y][0])/255)+value\n",
    "\n",
    "    value=(value/(sizeImage[0]*sizeImage[1]))*100\n",
    "    return value"
   ]
  },
  {
   "cell_type": "code",
   "execution_count": 7,
   "metadata": {},
   "outputs": [],
   "source": [
    "def uacil(inpt1,inpt2):\n",
    "    Rows1=len(inpt1)\n",
    "    Cols1=len(inpt1[0])\n",
    "    Rows2=len(inpt2)\n",
    "    Cols2=len(inpt2[0])\n",
    "    if Rows1 == Rows2 and Cols1 == Cols2:\n",
    "        # Calculo del NPCR\n",
    "        D1=np.zeros(Rows1*Cols1).astype(float)\n",
    "        D2=np.reshape(D1, (Rows1, Cols1))\n",
    "        meanerror=0.0\n",
    "        error=0.0\n",
    "        for row in range(Rows1):\n",
    "            for col in range(Cols1):\n",
    "                error=abs(float(inpt1[row][col])-float(inpt2[row][col]))\n",
    "                meanerror=float(meanerror+error)\n",
    "        uaciResult=float(100*meanerror)/float(255*Rows1*Cols1)\n",
    "        return uaciResult\n",
    "    else:\n",
    "        return \"Las dimensiones de las entradas a la funcion npcr no concuerdan\""
   ]
  },
  {
   "cell_type": "code",
   "execution_count": 72,
   "metadata": {},
   "outputs": [],
   "source": [
    "init = cv2.imread(f\"Analisis/Imagenes/{img[2][0]}.png\", cv2.IMREAD_GRAYSCALE)\n",
    "out = cv2.imread(f\"Analisis/Imagenes/{img[2][0]}_r.png\", cv2.IMREAD_GRAYSCALE)"
   ]
  },
  {
   "cell_type": "code",
   "execution_count": 73,
   "metadata": {},
   "outputs": [
    {
     "data": {
      "text/plain": [
       "0.0"
      ]
     },
     "execution_count": 73,
     "metadata": {},
     "output_type": "execute_result"
    }
   ],
   "source": [
    "uacil(init,out)"
   ]
  },
  {
   "cell_type": "code",
   "execution_count": 75,
   "metadata": {},
   "outputs": [],
   "source": [
    "init = cv2.imread(f\"Analisis/Imagenes/{img[2][0]}.png\")\n",
    "out = cv2.imread(f\"Analisis/Imagenes/{img[2][0]}_r.png\")"
   ]
  },
  {
   "cell_type": "code",
   "execution_count": 76,
   "metadata": {},
   "outputs": [
    {
     "name": "stderr",
     "output_type": "stream",
     "text": [
      "C:\\ProgramData\\Anaconda3\\lib\\site-packages\\ipykernel_launcher.py:8: RuntimeWarning: overflow encountered in ubyte_scalars\n",
      "  \n"
     ]
    },
    {
     "data": {
      "text/plain": [
       "75.97562883076783"
      ]
     },
     "execution_count": 76,
     "metadata": {},
     "output_type": "execute_result"
    }
   ],
   "source": [
    "uaci(init,out)"
   ]
  },
  {
   "cell_type": "code",
   "execution_count": 81,
   "metadata": {},
   "outputs": [
    {
     "name": "stdout",
     "output_type": "stream",
     "text": [
      "barbara\n",
      "1.7876404406977635\n"
     ]
    },
    {
     "name": "stderr",
     "output_type": "stream",
     "text": [
      "C:\\ProgramData\\Anaconda3\\lib\\site-packages\\ipykernel_launcher.py:8: RuntimeWarning: overflow encountered in ubyte_scalars\n",
      "  \n"
     ]
    },
    {
     "name": "stdout",
     "output_type": "stream",
     "text": [
      "32.161531635382964\n",
      "color\n",
      "21.41176470588235\n",
      "60.07843137261026\n",
      "eye\n",
      "0.0\n",
      "75.97562883076783\n",
      "lena\n",
      "6.678807875689338\n",
      "65.29429117833693\n",
      "lenaV2\n",
      "0.6110650654725558\n",
      "0.6110650654720228\n",
      "logo\n",
      "0.0\n",
      "25.899411060782302\n",
      "Mandrill\n",
      "3.2528402291092218\n",
      "67.41368910842324\n",
      "peppers\n",
      "5.7882047167011335\n",
      "73.52796816357292\n",
      "pinguin\n",
      "0.0\n",
      "47.42308974643446\n",
      "scale\n",
      "0.0\n",
      "0.0\n"
     ]
    }
   ],
   "source": [
    "for n in range(len(img)):\n",
    "    init = cv2.imread(f\"Analisis/Imagenes/{img[n][0]}.png\", cv2.IMREAD_GRAYSCALE)\n",
    "    out = cv2.imread(f\"Analisis/Imagenes/{img[n][0]}_r.png\", cv2.IMREAD_GRAYSCALE)\n",
    "    init2 = cv2.imread(f\"Analisis/Imagenes/{img[n][0]}.png\")\n",
    "    out2 = cv2.imread(f\"Analisis/Imagenes/{img[n][0]}_r.png\")\n",
    "    try:\n",
    "        print(img[n][0])\n",
    "        f=uacil(init,out)\n",
    "        print(f)\n",
    "        s=uaci(init2,out2)\n",
    "        print(s)\n",
    "    except:\n",
    "        print(f\"{n} failed\")"
   ]
  },
  {
   "cell_type": "markdown",
   "metadata": {},
   "source": [
    "## Entropia"
   ]
  },
  {
   "cell_type": "code",
   "execution_count": 8,
   "metadata": {},
   "outputs": [],
   "source": [
    "def hist(labels):\n",
    "    value,counts = np.unique(labels, return_counts=True)\n",
    "    return value,counts\n",
    "\n",
    "def entropy(value,counts):\n",
    "    norm=np.sum(counts)\n",
    "    p=np.zeros(256)\n",
    "    for l in value:\n",
    "        p[l]=float(counts[l])/float(norm)\n",
    "    H=0.0\n",
    "    for l in value:\n",
    "        H=H+p[l]*np.log2(p[l])\t\n",
    "    H=H*(-1)\n",
    "    return H,p"
   ]
  },
  {
   "cell_type": "code",
   "execution_count": 9,
   "metadata": {},
   "outputs": [],
   "source": [
    "def entropyf(init):\n",
    "    marg = np.histogramdd(np.ravel(init), bins = 256)[0]/init.size\n",
    "    marg = list(filter(lambda p: p > 0, np.ravel(marg)))\n",
    "    entropy = -np.sum(np.multiply(marg, np.log2(marg)))\n",
    "    return entropy"
   ]
  },
  {
   "cell_type": "code",
   "execution_count": 10,
   "metadata": {},
   "outputs": [],
   "source": [
    "def entropySKI(init):\n",
    "    return skimage.measure.shannon_entropy(init)"
   ]
  },
  {
   "cell_type": "code",
   "execution_count": 11,
   "metadata": {},
   "outputs": [],
   "source": [
    "init = cv2.imread(f\"Analisis/Imagenes/{img[2][0]}.png\")\n",
    "out = cv2.imread(f\"Analisis/Imagenes/{img[2][0]}_r.png\")"
   ]
  },
  {
   "cell_type": "code",
   "execution_count": 12,
   "metadata": {},
   "outputs": [
    {
     "data": {
      "text/plain": [
       "7.59335190847843"
      ]
     },
     "execution_count": 12,
     "metadata": {},
     "output_type": "execute_result"
    }
   ],
   "source": [
    "entropySKI(init)"
   ]
  },
  {
   "cell_type": "code",
   "execution_count": 13,
   "metadata": {},
   "outputs": [
    {
     "data": {
      "text/plain": [
       "7.593351908478429"
      ]
     },
     "execution_count": 13,
     "metadata": {},
     "output_type": "execute_result"
    }
   ],
   "source": [
    "entropyf(init)"
   ]
  },
  {
   "cell_type": "code",
   "execution_count": 14,
   "metadata": {},
   "outputs": [
    {
     "ename": "IndexError",
     "evalue": "index 219 is out of bounds for axis 0 with size 219",
     "output_type": "error",
     "traceback": [
      "\u001b[1;31m---------------------------------------------------------------------------\u001b[0m",
      "\u001b[1;31mIndexError\u001b[0m                                Traceback (most recent call last)",
      "\u001b[1;32m<ipython-input-14-8ff3dd5f72cf>\u001b[0m in \u001b[0;36m<module>\u001b[1;34m\u001b[0m\n\u001b[0;32m      1\u001b[0m \u001b[0mvalue\u001b[0m\u001b[1;33m,\u001b[0m \u001b[0mcounts\u001b[0m \u001b[1;33m=\u001b[0m \u001b[0mhist\u001b[0m\u001b[1;33m(\u001b[0m\u001b[0minit\u001b[0m\u001b[1;33m)\u001b[0m\u001b[1;33m\u001b[0m\u001b[1;33m\u001b[0m\u001b[0m\n\u001b[1;32m----> 2\u001b[1;33m \u001b[0mresult\u001b[0m \u001b[1;33m=\u001b[0m\u001b[0mentropy\u001b[0m\u001b[1;33m(\u001b[0m\u001b[0mvalue\u001b[0m\u001b[1;33m,\u001b[0m \u001b[0mcounts\u001b[0m\u001b[1;33m)\u001b[0m\u001b[1;33m\u001b[0m\u001b[1;33m\u001b[0m\u001b[0m\n\u001b[0m\u001b[0;32m      3\u001b[0m \u001b[0mresult\u001b[0m\u001b[1;33m[\u001b[0m\u001b[1;36m0\u001b[0m\u001b[1;33m]\u001b[0m\u001b[1;33m\u001b[0m\u001b[1;33m\u001b[0m\u001b[0m\n",
      "\u001b[1;32m<ipython-input-8-399656a1c265>\u001b[0m in \u001b[0;36mentropy\u001b[1;34m(value, counts)\u001b[0m\n\u001b[0;32m      7\u001b[0m     \u001b[0mp\u001b[0m\u001b[1;33m=\u001b[0m\u001b[0mnp\u001b[0m\u001b[1;33m.\u001b[0m\u001b[0mzeros\u001b[0m\u001b[1;33m(\u001b[0m\u001b[1;36m256\u001b[0m\u001b[1;33m)\u001b[0m\u001b[1;33m\u001b[0m\u001b[1;33m\u001b[0m\u001b[0m\n\u001b[0;32m      8\u001b[0m     \u001b[1;32mfor\u001b[0m \u001b[0ml\u001b[0m \u001b[1;32min\u001b[0m \u001b[0mvalue\u001b[0m\u001b[1;33m:\u001b[0m\u001b[1;33m\u001b[0m\u001b[1;33m\u001b[0m\u001b[0m\n\u001b[1;32m----> 9\u001b[1;33m         \u001b[0mp\u001b[0m\u001b[1;33m[\u001b[0m\u001b[0ml\u001b[0m\u001b[1;33m]\u001b[0m\u001b[1;33m=\u001b[0m\u001b[0mfloat\u001b[0m\u001b[1;33m(\u001b[0m\u001b[0mcounts\u001b[0m\u001b[1;33m[\u001b[0m\u001b[0ml\u001b[0m\u001b[1;33m]\u001b[0m\u001b[1;33m)\u001b[0m\u001b[1;33m/\u001b[0m\u001b[0mfloat\u001b[0m\u001b[1;33m(\u001b[0m\u001b[0mnorm\u001b[0m\u001b[1;33m)\u001b[0m\u001b[1;33m\u001b[0m\u001b[1;33m\u001b[0m\u001b[0m\n\u001b[0m\u001b[0;32m     10\u001b[0m     \u001b[0mH\u001b[0m\u001b[1;33m=\u001b[0m\u001b[1;36m0.0\u001b[0m\u001b[1;33m\u001b[0m\u001b[1;33m\u001b[0m\u001b[0m\n\u001b[0;32m     11\u001b[0m     \u001b[1;32mfor\u001b[0m \u001b[0ml\u001b[0m \u001b[1;32min\u001b[0m \u001b[0mvalue\u001b[0m\u001b[1;33m:\u001b[0m\u001b[1;33m\u001b[0m\u001b[1;33m\u001b[0m\u001b[0m\n",
      "\u001b[1;31mIndexError\u001b[0m: index 219 is out of bounds for axis 0 with size 219"
     ]
    }
   ],
   "source": [
    "value, counts = hist(init)\n",
    "result =entropy(value, counts)\n",
    "result[0]"
   ]
  },
  {
   "cell_type": "code",
   "execution_count": 19,
   "metadata": {},
   "outputs": [
    {
     "name": "stdout",
     "output_type": "stream",
     "text": [
      "barbara\n",
      "7.632119010904523\n",
      "7.632119010904523\n",
      "barbara failed\n",
      "color\n",
      "3.240223928941852\n",
      "2.321928094887362\n",
      "color failed\n",
      "eye\n",
      "7.593351908478429\n",
      "7.123186112668394\n",
      "eye failed\n",
      "lena\n",
      "7.7501974797431625\n",
      "6.969829819681192\n",
      "lena failed\n",
      "lenaV2\n",
      "6.947189103140138\n",
      "6.947189103140138\n",
      "lenaV2 failed\n",
      "logo\n",
      "3.4885870764451736\n",
      "2.0660954463366177\n",
      "logo failed\n",
      "Mandrill\n",
      "7.770451633476315\n",
      "7.008012489452549\n",
      "7.7704516334763145\n",
      "Mandrill failed\n",
      "peppers\n",
      "7.669825514176317\n",
      "7.593729622140703\n",
      "7.669825514176319\n",
      "peppers failed\n",
      "pinguin\n",
      "3.37669251699004\n",
      "2.730451010925445\n",
      "pinguin failed\n",
      "scale\n",
      "7.898717143245934\n",
      "7.898717143245934\n",
      "7.898717143245934\n",
      "7.898717143245934\n"
     ]
    }
   ],
   "source": [
    "for n in range(len(img)):\n",
    "    init = cv2.imread(f\"Analisis/Imagenes/{img[n][0]}.png\")\n",
    "    out = cv2.imread(f\"Analisis/Imagenes/{img[n][0]}_r.png\")\n",
    "    print(img[n][0])\n",
    "    try:\n",
    "        f=entropyf(init)\n",
    "        print(f)\n",
    "        \n",
    "        \n",
    "        f=entropyf(out)\n",
    "        print(f)\n",
    "        \n",
    "        x=hist(init)\n",
    "        s=entropy(x[0],x[1])\n",
    "        print(s[0])\n",
    "        \n",
    "        x=hist(out)\n",
    "        s=entropy(x[0],x[1])\n",
    "        print(s[0])\n",
    "    except:\n",
    "        print(f\"{img[n][0]} failed\")"
   ]
  },
  {
   "cell_type": "code",
   "execution_count": 16,
   "metadata": {},
   "outputs": [
    {
     "name": "stderr",
     "output_type": "stream",
     "text": [
      "C:\\ProgramData\\Anaconda3\\lib\\site-packages\\ipykernel_launcher.py:8: RuntimeWarning: overflow encountered in ubyte_scalars\n",
      "  \n"
     ]
    },
    {
     "name": "stdout",
     "output_type": "stream",
     "text": [
      "************************************************************\n",
      "\n",
      " Analisis de barbara\n",
      "\n",
      "************************************************************\n",
      "barbara\n",
      "[100, 100]\n",
      "100.0\n",
      "[0.0, 0.0]\n",
      "['f', 7.632119010904523, 7.632119010904523, 'f', 7.632119010904523, 7.632119010904523]\n",
      "[(33.28313582673327, 30.53281021118164), (33.2831361138952, 30.53281)]\n",
      "100.0\n",
      "[32.161531635382964, 1.7876404406977635]\n",
      "['f', 7.632119010904523, 7.632119010904523, 'f', 7.632119010904523, 7.632119010904523]\n",
      "************************************************************\n",
      "\n",
      " Analisis de color\n",
      "\n",
      "************************************************************\n",
      "color\n",
      "[100, 100]\n",
      "100.0\n",
      "[0.0, 0.0]\n",
      "['f', 3.240223928941852, 3.240223928941852, 'f', 3.240223928941852, 3.240223928941852]\n",
      "[(27.133997197586602, 125.8), (12.437298196451671, 3709.8005)]\n",
      "100.0\n",
      "[60.07843137261026, 21.41176470588235]\n",
      "['f', 3.240223928941852, 3.240223928941852, 'f', 2.321928094887362, 2.3219280948873626]\n",
      "************************************************************\n",
      "\n",
      " Analisis de eye\n",
      "\n",
      "************************************************************\n",
      "eye\n",
      "[100, 100]\n",
      "100.0\n",
      "[0.0, 0.0]\n",
      "['f', 7.593351908478429, 7.59335190847843, 'f', 7.593351908478429, 7.59335190847843]\n",
      "[100, 100]\n",
      "100.0\n",
      "[75.97562883076783, 0.0]\n",
      "['f', 7.593351908478429, 7.59335190847843, 'f', 7.123186112668394, 7.123186112668395]\n",
      "************************************************************\n",
      "\n",
      " Analisis de lena\n",
      "\n",
      "************************************************************\n",
      "lena\n",
      "[100, 100]\n",
      "100.0\n",
      "[0.0, 0.0]\n",
      "['f', 7.7501974797431625, 7.750197479743165, 'f', 7.7501974797431625, 7.750197479743165]\n",
      "[(28.152504202646767, 99.50157165527344), (22.1527957306322, 396.09628)]\n",
      "100.0\n",
      "[65.29429117833693, 6.678807875689338]\n",
      "['f', 7.7501974797431625, 7.750197479743165, 'f', 6.969829819681192, 6.969829819681192]\n",
      "************************************************************\n",
      "\n",
      " Analisis de lenaV2\n",
      "\n",
      "************************************************************\n",
      "lenaV2\n",
      "[100, 100]\n",
      "100.0\n",
      "[0.0, 0.0]\n",
      "['f', 6.947189103140138, 6.94718910314014, 'f', 6.947189103140138, 6.94718910314014]\n",
      "[(43.84825139320923, 2.6807432525951556), (43.848251575851336, 2.6807432)]\n",
      "100.0\n",
      "[0.6110650654720228, 0.6110650654725558]\n",
      "['f', 6.947189103140138, 6.94718910314014, 'f', 6.947189103140138, 6.94718910314014]\n",
      "************************************************************\n",
      "\n",
      " Analisis de logo\n",
      "\n",
      "************************************************************\n",
      "logo\n",
      "[100, 100]\n",
      "100.0\n",
      "[0.0, 0.0]\n",
      "['f', 3.4885870764451736, 3.4885870764451736, 'f', 3.4885870764451736, 3.4885870764451736]\n",
      "[100, 100]\n",
      "100.0\n",
      "[25.899411060782302, 0.0]\n",
      "['f', 3.4885870764451736, 3.4885870764451736, 'f', 2.0660954463366177, 2.0660954463366177]\n",
      "************************************************************\n",
      "\n",
      " Analisis de Mandrill\n",
      "\n",
      "************************************************************\n",
      "Mandrill\n",
      "[100, 100]\n",
      "100.0\n",
      "[0.0, 0.0]\n",
      "[7.7704516334763145, 7.770451633476315, 7.770451633476317, 7.7704516334763145, 7.770451633476315, 7.770451633476317]\n",
      "[(29.314293071563682, 76.14669418334961), (29.314292659846508, 76.146706)]\n",
      "100.0\n",
      "[67.41368910842324, 3.2528402291092218]\n",
      "[7.7704516334763145, 7.770451633476315, 7.770451633476317, 'f', 7.008012489452549, 7.008012489452552]\n",
      "************************************************************\n",
      "\n",
      " Analisis de peppers\n",
      "\n",
      "************************************************************\n",
      "peppers\n",
      "[100, 100]\n",
      "100.0\n",
      "[0.0, 0.0]\n",
      "[7.669825514176319, 7.669825514176317, 7.669825514176316, 7.669825514176319, 7.669825514176317, 7.669825514176316]\n",
      "[(28.011104567722725, 102.79450607299805), (23.94449627363941, 262.1988)]\n",
      "100.0\n",
      "[73.52796816357292, 5.7882047167011335]\n",
      "[7.669825514176319, 7.669825514176317, 7.669825514176316, 'f', 7.593729622140703, 7.593729622140705]\n",
      "************************************************************\n",
      "\n",
      " Analisis de pinguin\n",
      "\n",
      "************************************************************\n",
      "pinguin\n",
      "[100, 100]\n",
      "100.0\n",
      "[0.0, 0.0]\n",
      "['f', 3.37669251699004, 3.3766925169900395, 'f', 3.37669251699004, 3.3766925169900395]\n",
      "[100, 100]\n",
      "100.0\n",
      "[47.42308974643446, 0.0]\n",
      "['f', 3.37669251699004, 3.3766925169900395, 'f', 2.730451010925445, 2.7304510109254454]\n",
      "************************************************************\n",
      "\n",
      " Analisis de scale\n",
      "\n",
      "************************************************************\n",
      "scale\n",
      "[100, 100]\n",
      "100.0\n",
      "[0.0, 0.0]\n",
      "[7.898717143245934, 7.898717143245934, 7.898717143245935, 7.898717143245934, 7.898717143245934, 7.898717143245935]\n",
      "[100, 100]\n",
      "100.0\n",
      "[0.0, 0.0]\n",
      "[7.898717143245934, 7.898717143245934, 7.898717143245935, 7.898717143245934, 7.898717143245934, 7.898717143245935]\n"
     ]
    }
   ],
   "source": [
    "dir = \"Analisis/Imegenes/\"\n",
    "for n in range(len(img)):\n",
    "    files=[f\"Analisis/Imagenes/{img[n][0]}.png\",f\"Analisis/Imagenes/{img[n][0]}_r.png\"]\n",
    "    \n",
    "    init=cv2.imread(files[0])\n",
    "    #middle=cv2.imread(files[])\n",
    "    out=cv2.imread(files[1])\n",
    "    \n",
    "    initG=cv2.imread(files[0], cv2.IMREAD_GRAYSCALE)\n",
    "    #middle=cv2.imread(files[], cv2.IMREAD_GRAYSCALE)\n",
    "    outG=cv2.imread(files[1], cv2.IMREAD_GRAYSCALE)\n",
    "    try:\n",
    "        p1=PSNR(initG,outG)\n",
    "        p2=calculate_psnr(initG,outG)\n",
    "    except:\n",
    "        p1,p2=\"fail\",\"fail\"\n",
    "        \n",
    "    try:\n",
    "        n1=npcr(initG,outG)\n",
    "    except:\n",
    "        n1=\"fail\"\n",
    "    \n",
    "    try:\n",
    "        u1=uaci(init, out)\n",
    "        u2=uacil(initG, outG)\n",
    "    except:\n",
    "        u1, u2=\"fail\", \"fail\"\n",
    "        \n",
    "    try:\n",
    "        e5 = entropySKI(init)\n",
    "        e2=entropyf(init)\n",
    "        h1=hist(init)\n",
    "        e1=entropy(h1[0],h1[1])\n",
    "    except:\n",
    "        e1=\"fail\"\n",
    "        \n",
    "    try:\n",
    "        e6 = entropySKI(out)\n",
    "        e4=entropyf(out)\n",
    "        h2=hist(out)\n",
    "        e3=entropy(h2[0],h2[1])\n",
    "        \n",
    "    except:\n",
    "        e3 = \"fail\"\n",
    "        \n",
    "    img[n].append([p1,p2])\n",
    "    img[n].append(n1)\n",
    "    img[n].append([u1,u2])\n",
    "    img[n].append([e1[0],e2,e5,e3[0],e4,e6])\n",
    "    print((\"*\"*60)+f\"\\n\\n Analisis de {img[n][0]}\\n\\n\"+(\"*\"*60))\n",
    "    for e in img[n]:\n",
    "        print(f\"{e}\")"
   ]
  },
  {
   "cell_type": "code",
   "execution_count": null,
   "metadata": {},
   "outputs": [],
   "source": []
  }
 ],
 "metadata": {
  "kernelspec": {
   "display_name": "Python 3",
   "language": "python",
   "name": "python3"
  },
  "language_info": {
   "codemirror_mode": {
    "name": "ipython",
    "version": 3
   },
   "file_extension": ".py",
   "mimetype": "text/x-python",
   "name": "python",
   "nbconvert_exporter": "python",
   "pygments_lexer": "ipython3",
   "version": "3.7.1"
  }
 },
 "nbformat": 4,
 "nbformat_minor": 2
}
